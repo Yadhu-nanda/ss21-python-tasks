{
 "cells": [
  {
   "cell_type": "markdown",
   "id": "3d5201ef-78ba-44c2-a485-77059c3c147b",
   "metadata": {},
   "source": [
    "# Module 1.2 - **Python** Part 1 Task"
   ]
  },
  {
   "cell_type": "markdown",
   "id": "c27debe9-dc11-4e9e-98f1-57a465945746",
   "metadata": {},
   "source": [
    "## Problem 1 **Solution**"
   ]
  },
  {
   "cell_type": "code",
   "execution_count": 14,
   "id": "dbcf4ae0-49b2-4794-948b-8ba1a6ef7751",
   "metadata": {},
   "outputs": [],
   "source": [
    "def lagrange_polynomial(datalist,xvalue):\n",
    "    yvalue=0\n",
    "    for j in range(len(datalist)):\n",
    "        xj=datalist[j][0]\n",
    "        yj=datalist[j][1]\n",
    "        l=1\n",
    "        \n",
    "        for m in range(len(datalist)):\n",
    "            if m!=j:\n",
    "                xm=datalist[m][0]\n",
    "                l*=(xvalue-xm)/(xj-xm)\n",
    "            else:\n",
    "                continue\n",
    "        yvalue+=yj*l\n",
    "        \n",
    "    return yvalue"
   ]
  },
  {
   "cell_type": "code",
   "execution_count": 15,
   "id": "9e63eb03-e84e-4785-8a6b-9409b3125c40",
   "metadata": {},
   "outputs": [
    {
     "name": "stdout",
     "output_type": "stream",
     "text": [
      "9.257142857142858\n"
     ]
    }
   ],
   "source": [
    "yval = lagrange_polynomial([[8, 6], [1, 3], [3, 8]], 4)\n",
    "print(yval)"
   ]
  },
  {
   "cell_type": "markdown",
   "id": "db582143-5c68-4b0c-9e33-dc0a3daf0abd",
   "metadata": {},
   "source": [
    "## Problem 2 **Solution**"
   ]
  },
  {
   "cell_type": "code",
   "execution_count": 36,
   "id": "acf03b9a-1958-4048-be11-57fbdb28de2f",
   "metadata": {},
   "outputs": [],
   "source": [
    "def inv_rotn_encrypt(message,shift):\n",
    "    \n",
    "    #Creating encryption dictionary\n",
    "    alphabet=\"abcdefghijklmnopqrstuvwxyz\"\n",
    "    enc_dict={} \n",
    "    for i in range(26):\n",
    "        enc_dict[alphabet[i]]=alphabet[(i+shift)%26]\n",
    "    \n",
    "    #Encrypting the message\n",
    "    enc_msg=''\n",
    "    for char in message:\n",
    "        enc_msg+=enc_dict[char]\n",
    "    \n",
    "    #Inverting the enccrypted message\n",
    "    enc_inv=''\n",
    "    for char in enc_msg:\n",
    "        enc_inv=char+enc_inv\n",
    "    \n",
    "    return enc_inv"
   ]
  },
  {
   "cell_type": "code",
   "execution_count": 38,
   "id": "486d3177-2188-4384-8ab7-5bcd2335e52e",
   "metadata": {},
   "outputs": [
    {
     "data": {
      "text/plain": [
       "'pufsfs'"
      ]
     },
     "execution_count": 38,
     "metadata": {},
     "output_type": "execute_result"
    }
   ],
   "source": [
    "inv_rotn_encrypt('bobody', 17)"
   ]
  },
  {
   "cell_type": "code",
   "execution_count": 39,
   "id": "88f45f39-2127-4506-ad1f-cc079f24195e",
   "metadata": {},
   "outputs": [],
   "source": [
    "def inv_rotn_decrypt(secret,shift):\n",
    "    \n",
    "    #Inverting the secret\n",
    "    enc_msg=''\n",
    "    for char in secret:\n",
    "        enc_msg=char+enc_msg\n",
    "    \n",
    "    #Creating the decryption dictionary\n",
    "    alphabet=\"abcdefghijklmnopqrstuvwxyz\"\n",
    "    dec_dict={} \n",
    "    for i in range(26):\n",
    "        dec_dict[alphabet[i]]=alphabet[(i-shift)%26]\n",
    "    \n",
    "    #Decrypting the message\n",
    "    dec_msg=''\n",
    "    for char in enc_msg:\n",
    "        dec_msg+=dec_dict[char]\n",
    "        \n",
    "    return dec_msg"
   ]
  },
  {
   "cell_type": "code",
   "execution_count": 41,
   "id": "0ee748ee-64b7-4ef3-b1a2-eb7be48ecbf3",
   "metadata": {},
   "outputs": [
    {
     "data": {
      "text/plain": [
       "'bobody'"
      ]
     },
     "execution_count": 41,
     "metadata": {},
     "output_type": "execute_result"
    }
   ],
   "source": [
    "inv_rotn_decrypt('pufsfs',17)"
   ]
  }
 ],
 "metadata": {
  "kernelspec": {
   "display_name": "Python 3",
   "language": "python",
   "name": "python3"
  },
  "language_info": {
   "codemirror_mode": {
    "name": "ipython",
    "version": 3
   },
   "file_extension": ".py",
   "mimetype": "text/x-python",
   "name": "python",
   "nbconvert_exporter": "python",
   "pygments_lexer": "ipython3",
   "version": "3.8.8"
  }
 },
 "nbformat": 4,
 "nbformat_minor": 5
}
