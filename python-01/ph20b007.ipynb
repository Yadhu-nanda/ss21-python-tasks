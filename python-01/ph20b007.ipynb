{
 "cells": [
  {
   "cell_type": "markdown",
   "metadata": {},
   "source": [
    "# <font color = 'black'>Module 1.2 - **Python** Part 1 Task</font>"
   ]
  },
  {
   "cell_type": "markdown",
   "metadata": {},
   "source": [
    "## <font color = 'black'>Problem 1 **Solution** </font>"
   ]
  },
  {
   "cell_type": "code",
   "execution_count": 1,
   "metadata": {},
   "outputs": [],
   "source": [
    "def lagrange_polynomial(datalist, xvalue):\n",
    "    x=[]\n",
    "    y=[]\n",
    "    for i in range(len(datalist)):\n",
    "        x.append(datalist[i][0])\n",
    "        y.append(datalist[i][1])\n",
    "    a = len(x)\n",
    "    b = len(y)\n",
    "    assert a==b\n",
    "    LP = 0\n",
    "    l = [1]*b\n",
    "    for j in range(b):\n",
    "        for i in range(b):\n",
    "            if i != j:\n",
    "                l[j] *= (xvalue-x[i])/(x[j]-x[i])\n",
    "        LP += y[j]*l[j]\n",
    "    print(LP)"
   ]
  },
  {
   "cell_type": "markdown",
   "metadata": {},
   "source": [
    "## <font color = 'black'> Problem 2 **Solution** </font>"
   ]
  },
  {
   "cell_type": "code",
   "execution_count": 2,
   "metadata": {},
   "outputs": [],
   "source": [
    "# Defining new dictionaries.\n",
    "\n",
    "# Dictionary to lookup the index of alphabets.\n",
    "\n",
    "dict1 = {'A' : 1, 'B' : 2, 'C' : 3, 'D' : 4, 'E' : 5,\n",
    "        'F' : 6, 'G' : 7, 'H' : 8, 'I' : 9, 'J' : 10,\n",
    "        'K' : 11, 'L' : 12, 'M' : 13, 'N' : 14, 'O' : 15,\n",
    "        'P' : 16, 'Q' : 17, 'R' : 18, 'S' : 19, 'T' : 20,\n",
    "        'U' : 21, 'V' : 22, 'W' : 23, 'X' : 24, 'Y' : 25, 'Z' : 26}\n",
    "\n",
    "# Dictionary to lookup alphabets corresponding to the index after shift.\n",
    "\n",
    "dict2 = {0 : 'Z', 1 : 'A', 2 : 'B', 3 : 'C', 4 : 'D', 5 : 'E',\n",
    "        6 : 'F', 7 : 'G', 8 : 'H', 9 : 'I', 10 : 'J',\n",
    "        11 : 'K', 12 : 'L', 13 : 'M', 14 : 'N', 15 : 'O',\n",
    "        16 : 'P', 17 : 'Q', 18 : 'R', 19 : 'S', 20 : 'T',\n",
    "        21 : 'U', 22 : 'V', 23 : 'W', 24 : 'X', 25 : 'Y'}"
   ]
  },
  {
   "cell_type": "code",
   "execution_count": 3,
   "metadata": {},
   "outputs": [],
   "source": [
    "# Write message as a string\n",
    "# Message should be written with all letters in lowercase.\n",
    "\n",
    "def inv_rotn_encrypt(message, shift):\n",
    "    msg=message.upper()\n",
    "    encrypt = ''\n",
    "    for letters in msg:\n",
    "        if(letters != ' '):\n",
    "            num = ( dict1[letters] + shift ) % 26\n",
    "            encrypt += dict2[num]\n",
    "        else:\n",
    "            encrypt += ' '\n",
    "  \n",
    "    return encrypt.lower()"
   ]
  },
  {
   "cell_type": "code",
   "execution_count": 4,
   "metadata": {},
   "outputs": [],
   "source": [
    "# Write message as a string.\n",
    "# Message should be written with all letters in lowercase.\n",
    "\n",
    "def inv_rotn_decrypt(message, shift):\n",
    "    msg=message.upper()\n",
    "    decrypt = ''\n",
    "    for letters in msg:\n",
    "        if(letters != ' '):\n",
    "            num = ( dict1[letters] - shift + 26) % 26\n",
    "            decrypt += dict2[num]\n",
    "        else:\n",
    "            # adds space\n",
    "            decrypt += ' '\n",
    "  \n",
    "    return decrypt.lower()"
   ]
  }
 ],
 "metadata": {
  "kernelspec": {
   "display_name": "Python 3",
   "language": "python",
   "name": "python3"
  },
  "language_info": {
   "codemirror_mode": {
    "name": "ipython",
    "version": 3
   },
   "file_extension": ".py",
   "mimetype": "text/x-python",
   "name": "python",
   "nbconvert_exporter": "python",
   "pygments_lexer": "ipython3",
   "version": "3.8.5"
  }
 },
 "nbformat": 4,
 "nbformat_minor": 5
}
