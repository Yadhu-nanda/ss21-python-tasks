{
 "cells": [
  {
   "cell_type": "markdown",
   "id": "3d5201ef-78ba-44c2-a485-77059c3c147b",
   "metadata": {},
   "source": [
    "# Module 1.2 - **Python** Part 1 Task"
   ]
  },
  {
   "cell_type": "markdown",
   "id": "c27debe9-dc11-4e9e-98f1-57a465945746",
   "metadata": {},
   "source": [
    "## Problem 1 **Solution**"
   ]
  },
  {
   "cell_type": "code",
   "execution_count": 32,
   "id": "f7a1eaa9",
   "metadata": {},
   "outputs": [],
   "source": [
    "def lagrange_polynomial(data, x):\n",
    "    lagrange_sum = 0\n",
    "    n = len(data)\n",
    "    for i in range(n):\n",
    "        prod = float(data[i][1])\n",
    "        for j in range(n):\n",
    "            if i!=j :\n",
    "                prod *= (x - data[j][0])/(data[i][0]-data[j][0])\n",
    "\n",
    "        lagrange_sum += prod\n",
    "  \n",
    "    return lagrange_sum"
   ]
  },
  {
   "cell_type": "code",
   "execution_count": 33,
   "id": "dbcf4ae0-49b2-4794-948b-8ba1a6ef7751",
   "metadata": {},
   "outputs": [
    {
     "name": "stdout",
     "output_type": "stream",
     "text": [
      "9.257142857142858\n"
     ]
    }
   ],
   "source": [
    "yval = lagrange_polynomial([[8, 6], [1, 3], [3, 8]], 4)\n",
    "print(yval)"
   ]
  },
  {
   "cell_type": "markdown",
   "id": "db582143-5c68-4b0c-9e33-dc0a3daf0abd",
   "metadata": {},
   "source": [
    "## Problem 2 **Solution**"
   ]
  },
  {
   "cell_type": "code",
   "execution_count": 38,
   "id": "acf03b9a-1958-4048-be11-57fbdb28de2f",
   "metadata": {},
   "outputs": [],
   "source": [
    "def inv_rotn_encrypt(message, shift):\n",
    "    str = \"\"\n",
    "    rstr = \"\"\n",
    "    for i in message:\n",
    "        temp = ord(i)\n",
    "        temp = temp + shift\n",
    "        if temp > 122 :\n",
    "            temp = temp - 26\n",
    "        i = chr(temp)\n",
    "        str = str + i\n",
    "    for j in str :\n",
    "        rstr = j + rstr\n",
    "    return rstr\n",
    "\n",
    "def inv_rotn_decrypt(message, shift):\n",
    "    str = \"\"\n",
    "    rstr = \"\"\n",
    "    for i in message:\n",
    "        temp = ord(i)\n",
    "        temp = temp - shift\n",
    "        if temp < 97 :\n",
    "            temp = temp + 26\n",
    "        i = chr(temp)\n",
    "        str = str + i\n",
    "    for j in str :\n",
    "        rstr = j + rstr\n",
    "    return rstr"
   ]
  },
  {
   "cell_type": "code",
   "execution_count": 39,
   "id": "d5103e0b",
   "metadata": {},
   "outputs": [
    {
     "name": "stdout",
     "output_type": "stream",
     "text": [
      "Message:  adhi\n",
      "Encrypted message:  zyur\n",
      "Decrypted message:  adhi\n"
     ]
    }
   ],
   "source": [
    "message = 'adhi'\n",
    "print(\"Message: \", message)\n",
    "secret = inv_rotn_encrypt(message, 17)\n",
    "print(\"Encrypted message: \", secret)\n",
    "message_again = inv_rotn_decrypt(secret, 17)\n",
    "print(\"Decrypted message: \", message_again)"
   ]
  },
  {
   "cell_type": "code",
   "execution_count": null,
   "id": "6ce49ee9",
   "metadata": {},
   "outputs": [],
   "source": []
  }
 ],
 "metadata": {
  "kernelspec": {
   "display_name": "Python 3",
   "language": "python",
   "name": "python3"
  },
  "language_info": {
   "codemirror_mode": {
    "name": "ipython",
    "version": 3
   },
   "file_extension": ".py",
   "mimetype": "text/x-python",
   "name": "python",
   "nbconvert_exporter": "python",
   "pygments_lexer": "ipython3",
   "version": "3.6.13"
  }
 },
 "nbformat": 4,
 "nbformat_minor": 5
}
