{
 "cells": [
  {
   "cell_type": "markdown",
   "metadata": {},
   "source": [
    "# Module 1.2 - **Python** Part 1 Task"
   ]
  },
  {
   "cell_type": "markdown",
   "metadata": {},
   "source": [
    "## Problem 1 **Solution**"
   ]
  },
  {
   "cell_type": "code",
   "execution_count": null,
   "metadata": {},
   "outputs": [],
   "source": [
    "def lagrange_polynomial(datalist, xvalue):\n",
    "    result = 0.0\n",
    "    for i in range(len(datalist)):\n",
    "        term = datalist[i][1]\n",
    "        for j in range(len(datalist)):\n",
    "            if j!= i:\n",
    "                term = term*(xvalue - datalist[j][0])/(datalist[i][0] - datalist[j][0])\n",
    "        result += term\n",
    "    return result"
   ]
  },
  {
   "cell_type": "markdown",
   "metadata": {},
   "source": [
    "## Problem 2 **Solution**"
   ]
  },
  {
   "cell_type": "code",
   "execution_count": null,
   "metadata": {},
   "outputs": [],
   "source": [
    "def inv_rotn_encrypt(message, shift):\n",
    "    str = \"\"\n",
    "    revstr = \"\"\n",
    "    for i in message:\n",
    "        temp = ord(i)\n",
    "        temp = temp + shift\n",
    "        if temp > 122 :\n",
    "            temp = temp - 26\n",
    "        i = chr(temp)\n",
    "        str = str + i\n",
    "    for j in str :\n",
    "        revstr = j + revstr\n",
    "    return revstr\n",
    "\n",
    "def inv_rotn_decrypt(message, shift):\n",
    "    str = \"\"\n",
    "    revstr = \"\"\n",
    "    for i in message:\n",
    "        temp = ord(i)\n",
    "        temp = temp - shift\n",
    "        if temp < 97 :\n",
    "            temp = temp + 26\n",
    "        i = chr(temp)\n",
    "        str = str + i\n",
    "    for j in str :\n",
    "        revstr = j + revstr\n",
    "    return revstr"
   ]
  }
 ],
 "metadata": {
  "kernelspec": {
   "display_name": "Python 3",
   "language": "python",
   "name": "python3"
  },
  "language_info": {
   "codemirror_mode": {
    "name": "ipython",
    "version": 3
   },
   "file_extension": ".py",
   "mimetype": "text/x-python",
   "name": "python",
   "nbconvert_exporter": "python",
   "pygments_lexer": "ipython3",
   "version": "3.7.3"
  }
 },
 "nbformat": 4,
 "nbformat_minor": 5
}
