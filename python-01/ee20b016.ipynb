{
  "nbformat": 4,
  "nbformat_minor": 0,
  "metadata": {
    "colab": {
      "name": "Horizon Assignment2.ipynb",
      "provenance": []
    },
    "kernelspec": {
      "name": "python3",
      "display_name": "Python 3"
    },
    "language_info": {
      "name": "python"
    }
  },
  "cells": [
    {
      "cell_type": "markdown",
      "metadata": {
        "id": "3d5201ef-78ba-44c2-a485-77059c3c147b"
      },
      "source": [
        "# Module 1.2 - **Python** Part 1 Task"
      ]
    },
    {
      "cell_type": "markdown",
      "metadata": {
        "id": "c27debe9-dc11-4e9e-98f1-57a465945746"
      },
      "source": [
        "## Problem 1 **Solution**"
      ]
    },
    {
      "cell_type": "code",
      "metadata": {
        "id": "Ov5u2KKKd7JV"
      },
      "source": [
        "def lagrange_polynomial(datalist, xvalue):\n",
        "  poly = 0\n",
        "  n = len(datalist)\n",
        "  for i in range(n):\n",
        "    prod = float(datalist[i][1])\n",
        "    for j in range(n):\n",
        "      if i!=j :\n",
        "        prod *= (xvalue - datalist[j][0])/(datalist[i][0]-datalist[j][0])\n",
        "\n",
        "    poly += prod\n",
        "  \n",
        "  return poly\n"
      ],
      "execution_count": null,
      "outputs": []
    },
    {
      "cell_type": "code",
      "metadata": {
        "colab": {
          "base_uri": "https://localhost:8080/"
        },
        "id": "p3tubpn2ggtG",
        "outputId": "4724d4af-c0d9-4757-c88b-f4ed450a036b"
      },
      "source": [
        "yval = lagrange_polynomial([[8, 6], [1, 3], [3, 8]], 4)\n",
        "print(yval)"
      ],
      "execution_count": null,
      "outputs": [
        {
          "output_type": "stream",
          "text": [
            "9.257142857142858\n"
          ],
          "name": "stdout"
        }
      ]
    },
    {
      "cell_type": "markdown",
      "metadata": {
        "id": "db582143-5c68-4b0c-9e33-dc0a3daf0abd"
      },
      "source": [
        "## Problem 2 **Solution**"
      ]
    },
    {
      "cell_type": "code",
      "metadata": {
        "id": "dpYwmCXpjxUP"
      },
      "source": [
        "ls = ['a', 'b', 'c', 'd', 'e', 'f', 'g', 'h', 'i', 'j', 'k', 'l', 'm', 'n', 'o', 'p', 'q', 'r', 's', 't', 'u', 'v', 'w', 'x', 'y', 'z']\n",
        "ls_shifted = ['a', 'b', 'c', 'd', 'e', 'f', 'g', 'h', 'i', 'j', 'k', 'l', 'm', 'n', 'o', 'p', 'q', 'r', 's', 't', 'u', 'v', 'w', 'x', 'y', 'z']\n",
        "\n",
        "def inv_rotn_encrypt(message, shift):\n",
        "    # message is the message to be encrypted\n",
        "    # shift is the number of letters to shift\n",
        "    \n",
        "    for i in range(len(ls)):\n",
        "        ls_shifted[i-shift] = ls[i]\n",
        "\n",
        "    secret = ''\n",
        "    for i in message:\n",
        "        for j in range(len(ls)):\n",
        "            if i == ls[j]:\n",
        "                secret = ls_shifted[j] + secret\n",
        "    \n",
        "    return secret\n",
        "\n",
        "def inv_rotn_decrypt(secret, shift):\n",
        "    # secret is the encrypted message to be decrypted to obtain original message\n",
        "    # shift is the number of shifts used to encrypt the original message\n",
        "\n",
        "    for i in range(len(ls)):\n",
        "        ls_shifted[i-shift] = ls[i]\n",
        "\n",
        "    message = ''\n",
        "    for i in secret:\n",
        "        for j in range(len(ls_shifted)):\n",
        "            if i == ls_shifted[j]:\n",
        "                message = ls[j] + message\n",
        "    \n",
        "    return message"
      ],
      "execution_count": null,
      "outputs": []
    },
    {
      "cell_type": "code",
      "metadata": {
        "colab": {
          "base_uri": "https://localhost:8080/"
        },
        "id": "gY9DzP_7zVbO",
        "outputId": "f3bbd183-46c5-4b0a-b813-b98034cb8c0d"
      },
      "source": [
        "message = 'bobody'\n",
        "print(\"Message: \", message)\n",
        "secret = inv_rotn_encrypt(message, 17)\n",
        "print(\"Encrypted message: \", secret)\n",
        "message_again = inv_rotn_decrypt(secret, 17)\n",
        "print(\"Decrypted message: \", message_again)"
      ],
      "execution_count": null,
      "outputs": [
        {
          "output_type": "stream",
          "text": [
            "Message:  bobody\n",
            "Encrypted message:  pufsfs\n",
            "Decrypted message:  bobody\n"
          ],
          "name": "stdout"
        }
      ]
    }
  ]
}
