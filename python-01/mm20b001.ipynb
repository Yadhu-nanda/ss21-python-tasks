{
 "cells": [
  {
   "cell_type": "markdown",
   "id": "3d5201ef-78ba-44c2-a485-77059c3c147b",
   "metadata": {},
   "source": [
    "# Module 1.2 - **Python** Part 1 Task"
   ]
  },
  {
   "cell_type": "markdown",
   "id": "c27debe9-dc11-4e9e-98f1-57a465945746",
   "metadata": {},
   "source": [
    "## Problem 1 **Solution**"
   ]
  },
  {
   "cell_type": "code",
   "execution_count": null,
   "id": "dbcf4ae0-49b2-4794-948b-8ba1a6ef7751",
   "metadata": {},
   "outputs": [],
   "source": [
    "def lagrange_polynomial(datalist,xvalue):\n",
    "    n = 0\n",
    "    for point in datalist:\n",
    "        n += 1\n",
    "    \n",
    "    x = [1]*n\n",
    "    y = [1]*n\n",
    "    m = 0\n",
    "    for point in datalist:\n",
    "        x[m] = point[0]\n",
    "        y[m] = point[1]\n",
    "        m += 1\n",
    "    \n",
    "    yvalue = 0\n",
    "    for i in range(m):\n",
    "        z = 1\n",
    "        for j in range(m):\n",
    "            if i != j:\n",
    "                z = z*(xvalue - x[j])/(x[i] - x[j])\n",
    "        \n",
    "        yvalue = yvalue + z*y[i]\n",
    "    \n",
    "    return yvalue"
   ]
  },
  {
   "cell_type": "markdown",
   "id": "db582143-5c68-4b0c-9e33-dc0a3daf0abd",
   "metadata": {},
   "source": [
    "## Problem 2 **Solution**"
   ]
  },
  {
   "cell_type": "code",
   "execution_count": null,
   "id": "acf03b9a-1958-4048-be11-57fbdb28de2f",
   "metadata": {},
   "outputs": [],
   "source": [
    "def inv_rotn_encrypt(message,shift):\n",
    "    secret = \"\"\n",
    "    m = 0\n",
    "    for ch in message:\n",
    "        m += 1\n",
    "        \n",
    "    index = [-1]*m\n",
    "    n = 0\n",
    "    alphabets = 'abcdefghijklmnopqrstuvwxyz'\n",
    "    \n",
    "    for st in message:\n",
    "        for i in range(26):\n",
    "            st = st.lower()\n",
    "            if st == alphabet[i]:\n",
    "                index[n] = i\n",
    "                n += 1\n",
    "    \n",
    "    for i in range(m):\n",
    "        if index[i] 1= -1:\n",
    "            if index[i] + shift > 25:\n",
    "                index[i] += (shift - 26)\n",
    "            else :\n",
    "                index[i] += shift\n",
    "            \n",
    "            secret += alphabets[index[i]]\n",
    "    secret = secret[::-1]\n",
    "    return secret\n",
    "\n",
    "def inv_rotn_decrypt(secret,shift):\n",
    "    secret = secret[::-1]\n",
    "    message1 = \"\"\n",
    "    m = 0\n",
    "    for ch in secret:\n",
    "        m += 1\n",
    "    \n",
    "    index = [-1]*m\n",
    "    n = 0\n",
    "    alphabets = 'abcdefghijklmnopqrstuvwxyz'\n",
    "    \n",
    "    for st in secret:\n",
    "        for i in range(26):\n",
    "            if st == alphabets[i]:\n",
    "                index[n] = i\n",
    "                n += 1\n",
    "                \n",
    "    for i in range(m):\n",
    "        if index[i] 1= -1:\n",
    "            if index[i] - shift < 0 :\n",
    "                index[i] -= (shift - 26)\n",
    "            else :\n",
    "                index[i] -= shift\n",
    "                \n",
    "            message1 += alphabets[index[i]]\n",
    "    return message1    "
   ]
  }
 ],
 "metadata": {
  "kernelspec": {
   "display_name": "Python 3 (ipykernel)",
   "language": "python",
   "name": "python3"
  },
  "language_info": {
   "codemirror_mode": {
    "name": "ipython",
    "version": 3
   },
   "file_extension": ".py",
   "mimetype": "text/x-python",
   "name": "python",
   "nbconvert_exporter": "python",
   "pygments_lexer": "ipython3",
   "version": "3.8.10"
  }
 },
 "nbformat": 4,
 "nbformat_minor": 5
}
