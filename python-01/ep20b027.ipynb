{
 "cells": [
  {
   "cell_type": "markdown",
   "id": "3d5201ef-78ba-44c2-a485-77059c3c147b",
   "metadata": {},
   "source": [
    "# Module 1.2 - **Python** Part 1 Task"
   ]
  },
  {
   "cell_type": "markdown",
   "id": "c27debe9-dc11-4e9e-98f1-57a465945746",
   "metadata": {},
   "source": [
    "## Problem 1 **Solution**"
   ]
  },
  {
   "cell_type": "code",
   "execution_count": null,
   "id": "dbcf4ae0-49b2-4794-948b-8ba1a6ef7751",
   "metadata": {},
   "outputs": [],
   "source": [
    "def lagrange_polynomial(datalist, xvalue):\n",
    "    \n",
    "    def l(datalist, j, x):\n",
    "        pdt = 1\n",
    "        \n",
    "        for each in datalist:\n",
    "            if each != datalist[j]:\n",
    "                pdt *= (x - each[0]) / (datalist[j][0] - each[0])\n",
    "                \n",
    "        return pdt\n",
    "    \n",
    "    sum = k = 0\n",
    "    \n",
    "    for each in datalist:\n",
    "        sum += each[1] * l(datalist, k, xvalue)\n",
    "        k += 1\n",
    "    \n",
    "    return sum"
   ]
  },
  {
   "cell_type": "markdown",
   "id": "db582143-5c68-4b0c-9e33-dc0a3daf0abd",
   "metadata": {},
   "source": [
    "## Problem 2 **Solution**"
   ]
  },
  {
   "cell_type": "code",
   "execution_count": null,
   "id": "acf03b9a-1958-4048-be11-57fbdb28de2f",
   "metadata": {},
   "outputs": [],
   "source": [
    "def inv_rotn_encrypt(message, shift):\n",
    "    str_out = \"\"\n",
    "    \n",
    "    for i in message:\n",
    "        idx = ord(i)\n",
    "        \n",
    "        if (idx >= 65 and idx < 65 + 26 - shift) or (idx >= 97 and idx < 97 + 26 - shift):\n",
    "            str_out += chr(idx + shift)\n",
    "        \n",
    "        else:\n",
    "            str_out += chr(idx + shift - 26)\n",
    "            \n",
    "    return str_out[::-1]\n",
    "\n",
    "def inv_rotn_decrypt(message, shift):\n",
    "    str_out = \"\"\n",
    "    \n",
    "    for i in message:\n",
    "        idx = ord(i)\n",
    "        \n",
    "        if (idx <= 90 and idx > 90 - 26 + shift) or (idx <= 122 and idx > 122 - 26 + shift):\n",
    "            str_out += chr(idx - shift)\n",
    "        \n",
    "        else:\n",
    "            str_out += chr(idx - shift + 26)\n",
    "    \n",
    "    return str_out[::-1]"
   ]
  },
  {
   "cell_type": "code",
   "execution_count": null,
   "id": "adaptive-parking",
   "metadata": {},
   "outputs": [],
   "source": []
  }
 ],
 "metadata": {
  "kernelspec": {
   "display_name": "Python 3",
   "language": "python",
   "name": "python3"
  },
  "language_info": {
   "codemirror_mode": {
    "name": "ipython",
    "version": 3
   },
   "file_extension": ".py",
   "mimetype": "text/x-python",
   "name": "python",
   "nbconvert_exporter": "python",
   "pygments_lexer": "ipython3",
   "version": "3.9.5"
  }
 },
 "nbformat": 4,
 "nbformat_minor": 5
}
