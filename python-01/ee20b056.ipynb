{
 "cells": [
  {
   "cell_type": "markdown",
   "id": "3d5201ef-78ba-44c2-a485-77059c3c147b",
   "metadata": {},
   "source": [
    "# Module 1.2 - **Python** Part 1 Task"
   ]
  },
  {
   "cell_type": "markdown",
   "id": "c27debe9-dc11-4e9e-98f1-57a465945746",
   "metadata": {},
   "source": [
    "## Problem 1 **Solution**"
   ]
  },
  {
   "cell_type": "code",
   "execution_count": 2,
   "id": "dbcf4ae0-49b2-4794-948b-8ba1a6ef7751",
   "metadata": {},
   "outputs": [
    {
     "name": "stdin",
     "output_type": "stream",
     "text": [
      "Enter number of points: 3\n",
      "x: 8\n",
      "y: 6\n",
      "x: 1\n",
      "y: 3\n",
      "x: 3\n",
      "y: 8\n",
      "Function value at : 4\n"
     ]
    },
    {
     "name": "stdout",
     "output_type": "stream",
     "text": [
      "By lagrange interpolation Value of f(4) =9.257142857142858\n"
     ]
    }
   ],
   "source": [
    "datalist=dict()\n",
    "def LagInter(data: dict,z: int,n: int)->float:\n",
    "    f=0\n",
    "    for k in data:\n",
    "        t=data[k]\n",
    "        for l in data:\n",
    "            if(k!=l):\n",
    "                t=t*(z-l)/(k-l)\n",
    "        f+=t\n",
    "    return f\n",
    "\n",
    "\n",
    "n=int(input('Enter number of points:'))\n",
    "for i in range(n):\n",
    "    x=int(input('x:'))\n",
    "    y=int(input('y:'))\n",
    "    datalist[x]=y\n",
    "X=int(input('Function value at :'))\n",
    "print('By lagrange interpolation Value of f('+ str(X) +') ='+ str(LagInter(datalist,X,n)) )\n"
   ]
  },
  {
   "cell_type": "markdown",
   "id": "db582143-5c68-4b0c-9e33-dc0a3daf0abd",
   "metadata": {},
   "source": [
    "## Problem 2 **Solution**"
   ]
  },
  {
   "cell_type": "code",
   "execution_count": 4,
   "id": "acf03b9a-1958-4048-be11-57fbdb28de2f",
   "metadata": {},
   "outputs": [
    {
     "output_type": "stream",
     "name": "stdout",
     "text": [
      "Message:  bobody\nEncrypted message:  pufsfs\nDecrypted message:  bobody\n"
     ]
    }
   ],
   "source": [
    "def inv_rotn_encrypt(message: str, shift: int)->str:\n",
    "    text='abcdefghijklmnopqrstuvwxyz'\n",
    "    out=''\n",
    "    outfin=''\n",
    "    for j in range(len(message)):\n",
    "        for i in range(26):\n",
    "            if(message[j]==text[i]):\n",
    "                out=out+(text[(i+shift)%26])\n",
    "    for p in range(len(message)):\n",
    "        outfin=outfin+out[len(message)-p-1]\n",
    "    return outfin\n",
    "\n",
    "def inv_rotn_decrypt(message: str,shift: int)->str:\n",
    "    text='abcdefghijklmnopqrstuvwxyz'\n",
    "    out=''\n",
    "    outfin=''\n",
    "    for q in range(len(message)):\n",
    "        out=out+(message[len(message)-q-1])\n",
    "    for k in range(len(out)):\n",
    "        for j in range(26):\n",
    "            if(out[k]==text[j]):\n",
    "                outfin=outfin+text[(j-shift)]\n",
    "    return outfin\n",
    "\n",
    "message = input('Enter message to be encrypted(enter in lowercase or it\\'ll be converted to it eitherways[:)]:').lower()\n",
    "print(\"Message: \", message)\n",
    "secret = inv_rotn_encrypt(message, 17)\n",
    "print(\"Encrypted message: \", secret)\n",
    "message_again = inv_rotn_decrypt(secret, 17)\n",
    "print(\"Decrypted message: \", message_again)"
   ]
  }
 ],
 "metadata": {
  "kernelspec": {
   "name": "python3",
   "display_name": "Python 3.9.5 64-bit"
  },
  "language_info": {
   "codemirror_mode": {
    "name": "ipython",
    "version": 3
   },
   "file_extension": ".py",
   "mimetype": "text/x-python",
   "name": "python",
   "nbconvert_exporter": "python",
   "pygments_lexer": "ipython3",
   "version": "3.9.5"
  },
  "interpreter": {
   "hash": "ce1e901da04acbe50dd99cd0d91cb411cb2166c3507dec81ce620981a8df4741"
  }
 },
 "nbformat": 4,
 "nbformat_minor": 5
}