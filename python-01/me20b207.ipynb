{
 "cells": [
  {
   "cell_type": "markdown",
   "id": "3d5201ef-78ba-44c2-a485-77059c3c147b",
   "metadata": {},
   "source": [
    "# Module 1.2 - **Python** Part 1 Task"
   ]
  },
  {
   "cell_type": "markdown",
   "id": "c27debe9-dc11-4e9e-98f1-57a465945746",
   "metadata": {},
   "source": [
    "## Problem 1 **Solution**"
   ]
  },
  {
   "cell_type": "code",
   "execution_count": null,
   "id": "dbcf4ae0-49b2-4794-948b-8ba1a6ef7751",
   "metadata": {},
   "outputs": [],
   "source": [
    "# the function for q 1\n",
    "def polynomialInterpolation(list,x):\n",
    "    polyValue = 0\n",
    "    for point in list :\n",
    "        hac = point\n",
    "        if hac == [list[0][0],list[0][1]]:\n",
    "            k = ((x-list[1][0])*(x-list[2][0]))/((list[0][0]-list[1][0])*(list[0][0]-list[2][0]))\n",
    "        elif hac == [list[1][0],list[1][1]]:\n",
    "            k = ((x-list[0][0])*(x-list[2][0]))/((list[1][0]-list[0][0])*(list[1][0]-list[2][0]))\n",
    "        elif hac == [list[2][0],list[2][1]]:\n",
    "            k = ((x-list[0][0])*(x-list[1][0]))/((list[2][0]-list[0][0])*(list[2][0]-list[1][0]))\n",
    "        polyValue = polyValue+(hac[1]*k)\n",
    "    return polyValue"
   ]
  },
  {
   "cell_type": "markdown",
   "id": "db582143-5c68-4b0c-9e33-dc0a3daf0abd",
   "metadata": {},
   "source": [
    "## Problem 2 **Solution**"
   ]
  },
  {
   "cell_type": "code",
   "execution_count": null,
   "id": "acf03b9a-1958-4048-be11-57fbdb28de2f",
   "metadata": {},
   "outputs": [],
   "source": [
    "alpha = {'a':1,'b':2,'c':3,'d':4,'e':5,'f':6,'g':7,'h':8,'i':9,'j':10,'k':11,'l':12,'m':13,'n':14,'o':15,'p':16,'q':17,'r':18,'s':19,'t':20,'u':21,'v':22,'w':23,'x':24,'y':25,'z':26}\n",
    "beta = {'A':'a','B':'b','C':'c','D':'d','E':'e','F':'f','G':'g','H':'h','I':'i','J':'j','K':'k','L':'l','M':'m','N':'n','O':'o','P':'p','Q':'q','R':'r','S':'s','T':'t','U':'u','V':'v','W':'w','X':'x','Y':'y','Z':'z'}\n",
    "alphain = {1:'a',2:'b',3:'c',4:'d',5:'e',6:'f',7:'g',8:'h',9:'i',10:'j',11:'k',12:'l',13:'m',14:'n',15:'o',16:'p',17:'q',18:'r',19:'s',20:'t',21:'u',22:'v',23:'w',24:'x',25:'y',26:'z'}\n",
    "\n",
    "def encrypt (message,shift):\n",
    "    alpha_k = alpha.keys()\n",
    "    betak = beta.keys()\n",
    "    m =\"\"\n",
    "    for char in message:\n",
    "        if char in betak:\n",
    "            char = beta[char]\n",
    "        if char in alpha_k:\n",
    "            m +=char\n",
    "    message = m\n",
    "    res = \"\"\n",
    "    shift = shift%26\n",
    "    for char in message:\n",
    "        char = alphain[alpha[char]+shift]\n",
    "        res +=char\n",
    "    l= []\n",
    "    for char in res:\n",
    "        l +=char\n",
    "    i = len(l)-1\n",
    "    k=0\n",
    "    rev = \"\"\n",
    "    for ch in l:\n",
    "        if k<(len(l)//2):\n",
    "            temp = l[k]\n",
    "            l[k] = l[i-k]\n",
    "            l[i-k] = temp\n",
    "        k +=1\n",
    "    for c in l :\n",
    "        rev +=c\n",
    "    res = rev\n",
    "    return res\n",
    "\n",
    "def decrypt (code,shift):\n",
    "    l= []\n",
    "    for char in code:\n",
    "        l +=char\n",
    "    i = len(l)-1\n",
    "    k=0\n",
    "    rev = \"\"\n",
    "    for ch in l:\n",
    "        if k<(len(l)//2):\n",
    "            temp = l[k]\n",
    "            l[k] = l[i-k]\n",
    "            l[i-k] = temp\n",
    "        k +=1\n",
    "    for c in l :\n",
    "        rev +=c\n",
    "    code = rev\n",
    "    shift = shift%26\n",
    "    res = \"\"\n",
    "    for char in code:\n",
    "        char = alphain[alpha[char]-shift]\n",
    "        res +=char\n",
    "    return res\n"
   ]
  }
 ],
 "metadata": {
  "kernelspec": {
   "display_name": "Python 3 (ipykernel)",
   "language": "python",
   "name": "python3"
  },
  "language_info": {
   "codemirror_mode": {
    "name": "ipython",
    "version": 3
   },
   "file_extension": ".py",
   "mimetype": "text/x-python",
   "name": "python",
   "nbconvert_exporter": "python",
   "pygments_lexer": "ipython3",
   "version": "3.8.10"
  }
 },
 "nbformat": 4,
 "nbformat_minor": 5
}
