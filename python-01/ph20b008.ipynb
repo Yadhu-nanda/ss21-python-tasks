{
 "cells": [
  {
   "cell_type": "markdown",
   "id": "3d5201ef-78ba-44c2-a485-77059c3c147b",
   "metadata": {},
   "source": [
    "# Module 1.2 - **Python** Part 1 Task"
   ]
  },
  {
   "cell_type": "markdown",
   "id": "c27debe9-dc11-4e9e-98f1-57a465945746",
   "metadata": {},
   "source": [
    "## Problem 1 **Solution**"
   ]
  },
  {
   "cell_type": "code",
   "execution_count": 32,
   "id": "dbcf4ae0-49b2-4794-948b-8ba1a6ef7751",
   "metadata": {},
   "outputs": [],
   "source": [
    "def lagrange_polinomial(xylst, xval):\n",
    "    x = []\n",
    "    y = []\n",
    "    for i in range(len(xylst)):\n",
    "        x.append(xylst[i][0])\n",
    "        y.append(xylst[i][1])\n",
    "    L = 0 \n",
    "    for i in range(len(x)):\n",
    "        l = 1\n",
    "        for j in range(len(x)):\n",
    "            if i==j:\n",
    "                continue\n",
    "            else:\n",
    "                l*= (xval - x[j])/(x[i]-x[j])\n",
    "        L+= y[i]*l\n",
    "    return L\n"
   ]
  },
  {
   "cell_type": "markdown",
   "id": "db582143-5c68-4b0c-9e33-dc0a3daf0abd",
   "metadata": {},
   "source": [
    "## Problem 2 **Solution**"
   ]
  },
  {
   "cell_type": "code",
   "execution_count": 31,
   "id": "acf03b9a-1958-4048-be11-57fbdb28de2f",
   "metadata": {},
   "outputs": [],
   "source": [
    "def inv_rotn_encrypt(msg, sft):\n",
    "    ecrpt_lst = []\n",
    "    msg_lst = [char for char in msg]\n",
    "    abc = [chr(i) for i in range(ord('a'),ord('z')+1)]\n",
    "    ABC = [chr(i) for i in range(ord('A'),ord('Z')+1)]\n",
    "    for k in msg_lst:\n",
    "        if k in abc:\n",
    "            ecrpt_lst.append(abc[abc.index(k)+sft])\n",
    "        elif k in ABC:\n",
    "            ecrpt_lst.append(ABC[ABC.index(k)+sft])\n",
    "        else:\n",
    "            ecrpt_lst.append(k)\n",
    "    m = ''\n",
    "    for i in ecrpt_lst[::-1]:\n",
    "        m += i\n",
    "    return m\n",
    "\n",
    "def inv_rotn_decrypt(msg,sft):\n",
    "    ecrpt_lst = []\n",
    "    msg_lst = [char for char in msg]\n",
    "    abc = [chr(i) for i in range(ord('a'),ord('z')+1)]\n",
    "    ABC = [chr(i) for i in range(ord('A'),ord('Z')+1)]\n",
    "    for k in msg_lst:\n",
    "        if k in abc:\n",
    "            ecrpt_lst.append(abc[abc.index(k)-sft])\n",
    "        elif k in ABC:\n",
    "            ecrpt_lst.append(ABC[ABC.index(k)-sft])\n",
    "        else:\n",
    "            ecrpt_lst.append(k)\n",
    "    m = ''\n",
    "    for i in ecrpt_lst[::-1]:\n",
    "        m += i\n",
    "    return m"
   ]
  }
 ],
 "metadata": {
  "kernelspec": {
   "display_name": "Python 3 (ipykernel)",
   "language": "python",
   "name": "python3"
  },
  "language_info": {
   "codemirror_mode": {
    "name": "ipython",
    "version": 3
   },
   "file_extension": ".py",
   "mimetype": "text/x-python",
   "name": "python",
   "nbconvert_exporter": "python",
   "pygments_lexer": "ipython3",
   "version": "3.8.10"
  }
 },
 "nbformat": 4,
 "nbformat_minor": 5
}
