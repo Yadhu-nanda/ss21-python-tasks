{
 "cells": [
  {
   "cell_type": "markdown",
   "id": "3d5201ef-78ba-44c2-a485-77059c3c147b",
   "metadata": {},
   "source": [
    "# Module 1.2 - **Python** Part 1 Task"
   ]
  },
  {
   "cell_type": "markdown",
   "id": "c27debe9-dc11-4e9e-98f1-57a465945746",
   "metadata": {},
   "source": [
    "## Problem 1 **Solution**"
   ]
  },
  {
   "cell_type": "code",
   "execution_count": 9,
   "id": "dbcf4ae0-49b2-4794-948b-8ba1a6ef7751",
   "metadata": {},
   "outputs": [],
   "source": [
    "def lagrange_polynomial(datalist, xvalue) :\n",
    "    res = 0\n",
    "    for i in datalist :\n",
    "        temp = 1\n",
    "        for j in datalist :\n",
    "            if j != i :\n",
    "                temp *= xvalue - j[0]\n",
    "                temp /= i[0] - j[0]\n",
    "        res += temp*i[1]\n",
    "    \n",
    "    return res"
   ]
  },
  {
   "cell_type": "markdown",
   "id": "db582143-5c68-4b0c-9e33-dc0a3daf0abd",
   "metadata": {},
   "source": [
    "## Problem 2 **Solution**"
   ]
  },
  {
   "cell_type": "code",
   "execution_count": 39,
   "id": "acf03b9a-1958-4048-be11-57fbdb28de2f",
   "metadata": {},
   "outputs": [],
   "source": [
    "def inv_rotn_encrypt(message, shift) :\n",
    "    temp = res = \"\"\n",
    "    for i in message:\n",
    "        if ord(i)>64 and ord(i)<91 :\n",
    "            temp += chr(96+(ord(i)-64+shift)%26)\n",
    "        if ord(i)>96 and ord(i)<123 :\n",
    "            temp += chr(96+(ord(i)-96+shift)%26)\n",
    "        \n",
    "    for i in range(len(temp)):\n",
    "        res += temp[len(temp)-1-i]\n",
    "        \n",
    "    return res\n",
    "\n",
    "def inv_rotn_decrypt(secret, shift) :\n",
    "    temp = res = \"\"\n",
    "    for i in secret:\n",
    "        temp += chr(96+(ord(i)-96-shift)%26)\n",
    "        \n",
    "    for i in range(len(temp)):\n",
    "        res += temp[len(temp)-1-i]\n",
    "        \n",
    "    return res"
   ]
  }
 ],
 "metadata": {
  "kernelspec": {
   "display_name": "Python 3 (ipykernel)",
   "language": "python",
   "name": "python3"
  },
  "language_info": {
   "codemirror_mode": {
    "name": "ipython",
    "version": 3
   },
   "file_extension": ".py",
   "mimetype": "text/x-python",
   "name": "python",
   "nbconvert_exporter": "python",
   "pygments_lexer": "ipython3",
   "version": "3.8.10"
  }
 },
 "nbformat": 4,
 "nbformat_minor": 5
}
