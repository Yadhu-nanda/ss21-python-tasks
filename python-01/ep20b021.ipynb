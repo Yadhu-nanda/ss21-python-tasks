{
 "cells": [
  {
   "cell_type": "markdown",
   "metadata": {},
   "source": [
    "# Module 1.2 - **Python** Part 1 Task"
   ]
  },
  {
   "cell_type": "markdown",
   "metadata": {},
   "source": [
    "## Problem 1 **Solution**"
   ]
  },
  {
   "cell_type": "code",
   "execution_count": 36,
   "metadata": {},
   "outputs": [],
   "source": [
    "def lagrange_polynomial(datalist, xvalue):\n",
    "    x = []\n",
    "    y = []\n",
    "    for a, b in datalist:\n",
    "        x.append(a)\n",
    "        y.append(b)\n",
    "    s = 0\n",
    "    p = 1\n",
    "    for i in range(1, len(datalist)):\n",
    "        for j in range(1, len(datalist)):\n",
    "            if j!=i:\n",
    "                p *= (xvalue - x[j])/(x[i]-x[j])\n",
    "        s += p*y[i]\n",
    "    return s"
   ]
  },
  {
   "cell_type": "code",
   "execution_count": 38,
   "metadata": {},
   "outputs": [
    {
     "data": {
      "text/plain": [
       "-11.0"
      ]
     },
     "execution_count": 38,
     "metadata": {},
     "output_type": "execute_result"
    }
   ],
   "source": [
    "lagrange_polynomial([[1,2],[2,3],[3,4]], 4)"
   ]
  },
  {
   "cell_type": "markdown",
   "metadata": {},
   "source": [
    "## Problem 2 **Solution**"
   ]
  },
  {
   "cell_type": "code",
   "execution_count": 6,
   "metadata": {},
   "outputs": [],
   "source": [
    "letters = ['a','b','c','d','e','f','g','h','i','j','k','l','m','n','o','p','q','r','s','t','u','v','w','x','y','z']\n",
    "\n",
    "def inv_rotn_encrypt(message, shift):\n",
    "    crypt = []\n",
    "    cr = \"\"\n",
    "    for i in message:\n",
    "        pos = letters.index(i)\n",
    "        newletter = letters[pos+shift]\n",
    "        crypt.append(newletter)\n",
    "    return cr.join(crypt)[::-1]\n",
    "\n",
    "def inv_rotn_decrypt(secret, shift):\n",
    "    decrypt = []\n",
    "    decr = \"\"\n",
    "    for i in secret:\n",
    "        pos1 = letters.index(i)\n",
    "        oldletter = letters[pos1-shift]\n",
    "        decrypt.append(oldletter)\n",
    "    return decr.join(decrypt)[::-1]"
   ]
  },
  {
   "cell_type": "code",
   "execution_count": 7,
   "metadata": {},
   "outputs": [
    {
     "data": {
      "text/plain": [
       "'gicuugo'"
      ]
     },
     "execution_count": 7,
     "metadata": {},
     "output_type": "execute_result"
    }
   ],
   "source": [
    "inv_rotn_encrypt('message', 2)"
   ]
  },
  {
   "cell_type": "code",
   "execution_count": 8,
   "metadata": {},
   "outputs": [
    {
     "data": {
      "text/plain": [
       "'message'"
      ]
     },
     "execution_count": 8,
     "metadata": {},
     "output_type": "execute_result"
    }
   ],
   "source": [
    "inv_rotn_decrypt('gicuugo', 2)"
   ]
  },
  {
   "cell_type": "code",
   "execution_count": null,
   "metadata": {},
   "outputs": [],
   "source": []
  }
 ],
 "metadata": {
  "kernelspec": {
   "display_name": "Python 3",
   "language": "python",
   "name": "python3"
  },
  "language_info": {
   "codemirror_mode": {
    "name": "ipython",
    "version": 3
   },
   "file_extension": ".py",
   "mimetype": "text/x-python",
   "name": "python",
   "nbconvert_exporter": "python",
   "pygments_lexer": "ipython3",
   "version": "3.8.10"
  }
 },
 "nbformat": 4,
 "nbformat_minor": 5
}
