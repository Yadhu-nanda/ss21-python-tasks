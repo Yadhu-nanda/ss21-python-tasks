{
 "cells": [
  {
   "cell_type": "markdown",
   "id": "3d5201ef-78ba-44c2-a485-77059c3c147b",
   "metadata": {},
   "source": [
    "# Module 1.2 - **Python** Part 1 Task"
   ]
  },
  {
   "cell_type": "markdown",
   "id": "c27debe9-dc11-4e9e-98f1-57a465945746",
   "metadata": {},
   "source": [
    "## Problem 1 **Solution**"
   ]
  },
  {
   "cell_type": "code",
   "execution_count": 7,
   "id": "dbcf4ae0-49b2-4794-948b-8ba1a6ef7751",
   "metadata": {},
   "outputs": [
    {
     "name": "stdout",
     "output_type": "stream",
     "text": [
      "9.257142857142856\n"
     ]
    }
   ],
   "source": [
    "def lagrange_polynomial(datalist, xval):\n",
    "    yval = 0\n",
    "    n = len(datalist)\n",
    "    for j in range(0,n):\n",
    "        factor = 1\n",
    "        for i in range(0,n):\n",
    "            if(i!=j):\n",
    "                factor = factor*(xval-datalist[i][0])\n",
    "        factor *= datalist[j][1]\n",
    "        curX = datalist[j][0]\n",
    "        for i in range(0,n):\n",
    "            if(i!=j):\n",
    "                factor /= curX - datalist[i][0]\n",
    "        yval += factor\n",
    "    return yval"
   ]
  },
  {
   "cell_type": "markdown",
   "id": "db582143-5c68-4b0c-9e33-dc0a3daf0abd",
   "metadata": {},
   "source": [
    "## Problem 2 **Solution**"
   ]
  },
  {
   "cell_type": "code",
   "execution_count": 29,
   "id": "acf03b9a-1958-4048-be11-57fbdb28de2f",
   "metadata": {},
   "outputs": [],
   "source": [
    "def inv_rotn_encrypt(message, shift):\n",
    "    check_int = isinstance(shift, int)\n",
    "    if(not check_int):\n",
    "        return \"invalid shift\"\n",
    "    enc = \"\"\n",
    "    n = len(message)\n",
    "    for i in range(0,n):\n",
    "        char = message[i]\n",
    "        if(ord(char)>=ord('A') and ord(char)<=ord('Z')):\n",
    "            char = chr(ord('a')+ord(char)-ord('A'))\n",
    "        if(ord(char)>=ord('a') and ord(char)<=ord('z')):\n",
    "            enc += chr(ord('a')+(ord(char) - ord('a')+ shift)%26)\n",
    "        else:\n",
    "            enc += char\n",
    "    rev = \"\"\n",
    "    for i in range(n-1,-1,-1):\n",
    "        rev += enc[i]\n",
    "    return rev\n",
    "def inv_rotn_decrypt(secret, shift):\n",
    "    check_int = isinstance(shift,int)\n",
    "    if(not check_int):\n",
    "        return \"invalid shift\"\n",
    "    enc = \"\"\n",
    "    n = len(secret)\n",
    "    shift %= 26\n",
    "    for i in range(n-1,-1,-1):\n",
    "        enc += secret[i]\n",
    "    msg = \"\"\n",
    "    for i in range(0,n):\n",
    "        if(ord(enc[i])>=ord('a') and ord(enc[i])<=ord('z')):\n",
    "            msg += chr(ord('a')+(ord(enc[i])-ord('a')-shift+26)%26)\n",
    "        else:\n",
    "            msg += enc[i]\n",
    "    return msg"
   ]
  },
  {
   "cell_type": "code",
   "execution_count": null,
   "id": "7294eb67-7f24-4c6e-9ac4-f973f33f3870",
   "metadata": {},
   "outputs": [],
   "source": []
  }
 ],
 "metadata": {
  "kernelspec": {
   "display_name": "Python 3 (ipykernel)",
   "language": "python",
   "name": "python3"
  },
  "language_info": {
   "codemirror_mode": {
    "name": "ipython",
    "version": 3
   },
   "file_extension": ".py",
   "mimetype": "text/x-python",
   "name": "python",
   "nbconvert_exporter": "python",
   "pygments_lexer": "ipython3",
   "version": "3.9.5"
  }
 },
 "nbformat": 4,
 "nbformat_minor": 5
}
