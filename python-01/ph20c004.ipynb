{
 "cells": [
  {
   "cell_type": "markdown",
   "id": "3d5201ef-78ba-44c2-a485-77059c3c147b",
   "metadata": {},
   "source": [
    "# Module 1.2 - **Python** Part 1 Task"
   ]
  },
  {
   "cell_type": "markdown",
   "id": "c27debe9-dc11-4e9e-98f1-57a465945746",
   "metadata": {},
   "source": [
    "## Problem 1 **Solution**"
   ]
  },
  {
   "cell_type": "code",
   "execution_count": null,
   "id": "dbcf4ae0-49b2-4794-948b-8ba1a6ef7751",
   "metadata": {},
   "outputs": [],
   "source": [
    "def lagrange_polynomial(x,x_val):\n",
    "    lag=0\n",
    "    k=0\n",
    "    w=1\n",
    "    for i in x:\n",
    "        for j in i:\n",
    "            w=w*(x_val-j)\n",
    "            break\n",
    "    s=[]\n",
    "    t=[]\n",
    "    x0=2\n",
    "    l=0\n",
    "    lag=0\n",
    "    for i in x:\n",
    "        for j in i:\n",
    "            s=s+[j]\n",
    "            break\n",
    "        for k in i:\n",
    "            if(k==s[l]):\n",
    "                continue\n",
    "            else:\n",
    "                t=t+[k]\n",
    "            l+=1\n",
    "    l=0\n",
    "    for i in s:\n",
    "        d=1\n",
    "        for j in s:\n",
    "            if(j!=i):\n",
    "                d=d*(i-j) \n",
    "            else:\n",
    "                d=d*(x_val-i)\n",
    "        lag=lag+(t[l]/d)\n",
    "        l+=1\n",
    "    lag=w*lag\n",
    "    return(lag)"
   ]
  },
  {
   "cell_type": "markdown",
   "id": "db582143-5c68-4b0c-9e33-dc0a3daf0abd",
   "metadata": {},
   "source": [
    "## Problem 2 **Solution**"
   ]
  },
  {
   "cell_type": "code",
   "execution_count": null,
   "id": "acf03b9a-1958-4048-be11-57fbdb28de2f",
   "metadata": {},
   "outputs": [],
   "source": [
    "def inv_rotn_encrypt(msg,sh):\n",
    "    d1 = {'a' : 1, 'b' : 2, 'c' : 3, 'd' : 4, 'e' : 5,\n",
    "        'f' : 6, 'g' : 7, 'h' : 8, 'i' : 9, 'j' : 10,\n",
    "        'k' : 11, 'l' : 12, 'k' : 13, 'n' : 14, 'o' : 15,\n",
    "        'p' : 16, 'q' : 17, 'r' : 18, 's' : 19, 't' : 20,\n",
    "        'u' : 21, 'v' : 22, 'w' : 23, 'x' : 24, 'y' : 25, 'z' : 26}\n",
    "\n",
    "    d2 = {0 : 'z', 1 : 'a', 2 : 'b', 3 : 'c', 4 : 'd', 5 : 'e',\n",
    "        6 : 'f', 7 : 'g', 8 : 'h', 9 : 'i', 10 : 'j',\n",
    "        11 : 'k', 12 : 'l', 13 : 'm', 14 : 'n', 15 : 'o',\n",
    "        16 : 'p', 17 : 'q', 18 : 'r', 19 : 's', 20 : 't',\n",
    "        21 : 'u', 22 : 'v', 23 : 'w', 24 : 'x', 25 : 'y'}\n",
    "    li=['a', 'b', 'c', 'd', 'e', 'f', 'g', 'h', 'i', 'j', 'k', 'l', 'm', 'n', 'o', 'p', 'q', 'r', 's', 't', 'u', 'v', 'w', 'x', 'y', 'z']\n",
    "    msg_l=msg.lower()\n",
    "    enc=''\n",
    "    l=0\n",
    "    for i in msg_l:\n",
    "        for j in li:\n",
    "            if(i==j):\n",
    "                n=(d1[i]+sh)%26\n",
    "                enc=enc+d2[n]\n",
    "        else:\n",
    "            enc=enc+' '\n",
    "        l+=1\n",
    "    num=enc\n",
    "    enc='' \n",
    "    for i in num:\n",
    "        enc=i+enc\n",
    "    return(enc)  \n",
    "def inv_rotn_decrypt(enc,sh):\n",
    "    d1 = {'a' : 1, 'b' : 2, 'c' : 3, 'd' : 4, 'e' : 5,\n",
    "        'f' : 6, 'g' : 7, 'h' : 8, 'i' : 9, 'j' : 10,\n",
    "        'k' : 11, 'l' : 12, 'k' : 13, 'n' : 14, 'o' : 15,\n",
    "        'p' : 16, 'q' : 17, 'r' : 18, 's' : 19, 't' : 20,\n",
    "        'u' : 21, 'v' : 22, 'w' : 23, 'x' : 24, 'y' : 25, 'z' : 26}\n",
    "\n",
    "    d2 = {0 : 'z', 1 : 'a', 2 : 'b', 3 : 'c', 4 : 'd', 5 : 'e',\n",
    "        6 : 'f', 7 : 'g', 8 : 'h', 9 : 'i', 10 : 'j',\n",
    "        11 : 'k', 12 : 'l', 13 : 'm', 14 : 'n', 15 : 'o',\n",
    "        16 : 'p', 17 : 'q', 18 : 'r', 19 : 's', 20 : 't',\n",
    "        21 : 'u', 22 : 'v', 23 : 'w', 24 : 'x', 25 : 'y'}\n",
    "    li=['a', 'b', 'c', 'd', 'e', 'f', 'g', 'h', 'i', 'j', 'k', 'l', 'm', 'n', 'o', 'p', 'q', 'r', 's', 't', 'u', 'v', 'w', 'x', 'y', 'z']\n",
    "    ori=''\n",
    "    dec='' \n",
    "    for i in enc:\n",
    "        dec=i+dec\n",
    "    for i in dec:\n",
    "        for j in li:\n",
    "            if(i==j):\n",
    "                m=(d1[i]-sh)%26\n",
    "                ori=ori+d2[m]\n",
    "        else:\n",
    "            ori=ori+' '\n",
    "    return(ori)"
   ]
  }
 ],
 "metadata": {
  "kernelspec": {
   "display_name": "Python 3 (ipykernel)",
   "language": "python",
   "name": "python3"
  },
  "language_info": {
   "codemirror_mode": {
    "name": "ipython",
    "version": 3
   },
   "file_extension": ".py",
   "mimetype": "text/x-python",
   "name": "python",
   "nbconvert_exporter": "python",
   "pygments_lexer": "ipython3",
   "version": "3.9.1"
  }
 },
 "nbformat": 4,
 "nbformat_minor": 5
}
