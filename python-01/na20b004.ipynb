{
 "cells": [
  {
   "cell_type": "markdown",
   "id": "3d5201ef-78ba-44c2-a485-77059c3c147b",
   "metadata": {},
   "source": [
    "# Module 1.2 - **Python** Part 1 Task"
   ]
  },
  {
   "cell_type": "markdown",
   "id": "c27debe9-dc11-4e9e-98f1-57a465945746",
   "metadata": {},
   "source": [
    "## Problem 1 **Solution**"
   ]
  },
  {
   "cell_type": "code",
   "execution_count": null,
   "id": "dbcf4ae0-49b2-4794-948b-8ba1a6ef7751",
   "metadata": {},
   "outputs": [],
   "source": [
    "def lagrange_polynomial(list_of_coordinates, x):\n",
    "    k = len(list_of_coordinates)\n",
    "    s = 0.00000000\n",
    "    for j in range(0, k):\n",
    "        l = 1.00000000\n",
    "        for m in range(0, k):\n",
    "            if(m==j):\n",
    "                continue\n",
    "            else:\n",
    "                l = l * 1.000000000 * (x-list_of_coordinates[m][0])/(list_of_coordinates[j][0]-list_of_coordinates[m][0])\n",
    "        s = s + list_of_coordinates[j][1]*l\n",
    "    return s\n"
   ]
  },
  {
   "cell_type": "markdown",
   "id": "db582143-5c68-4b0c-9e33-dc0a3daf0abd",
   "metadata": {},
   "source": [
    "## Problem 2 **Solution**"
   ]
  },
  {
   "cell_type": "code",
   "execution_count": 1,
   "id": "acf03b9a-1958-4048-be11-57fbdb28de2f",
   "metadata": {},
   "outputs": [],
   "source": [
    "def inv_rotn_encrypt(message, shift):\n",
    "    str = 'abcdefghijklmnopqrstuvwxyz'\n",
    "    d = {}\n",
    "    sec = ''\n",
    "    secret = ''\n",
    "    for i in range(0, 26):\n",
    "        d[str[i]] = str[(i+shift)%26]\n",
    "    for c in message:\n",
    "        sc = d[c]\n",
    "        sec = sec + sc\n",
    "    l = len(sec)\n",
    "    for i in range(0, l, 1):\n",
    "        secret = secret + sec[l-i-1]\n",
    "    return secret\n",
    "\n",
    "def inv_rotn_decrypt(secret, shift):\n",
    "    str = 'abcdefghijklmnopqrstuvwxyz'\n",
    "    d = {}\n",
    "    sec = ''\n",
    "    message = ''\n",
    "    for i in range(0, 26):\n",
    "        d[str[i]] = str[(i-shift)%26]\n",
    "    l = len(secret)\n",
    "    for i in range(0, l, 1):\n",
    "        sec = sec + secret[l-i-1]\n",
    "    for c in sec:\n",
    "        sc = d[c]\n",
    "        message = message + sc\n",
    "    return message"
   ]
  },
  {
   "cell_type": "code",
   "execution_count": null,
   "id": "148df803-68f3-46c5-9aae-6794a81ecbea",
   "metadata": {},
   "outputs": [],
   "source": []
  }
 ],
 "metadata": {
  "kernelspec": {
   "display_name": "Python 3 (ipykernel)",
   "language": "python",
   "name": "python3"
  },
  "language_info": {
   "codemirror_mode": {
    "name": "ipython",
    "version": 3
   },
   "file_extension": ".py",
   "mimetype": "text/x-python",
   "name": "python",
   "nbconvert_exporter": "python",
   "pygments_lexer": "ipython3",
   "version": "3.8.10"
  }
 },
 "nbformat": 4,
 "nbformat_minor": 5
}
