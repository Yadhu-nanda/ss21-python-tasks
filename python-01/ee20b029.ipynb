{
 "cells": [
  {
   "cell_type": "markdown",
   "id": "3d5201ef-78ba-44c2-a485-77059c3c147b",
   "metadata": {},
   "source": [
    "# Module 1.2 - **Python** Part 1 Task"
   ]
  },
  {
   "cell_type": "markdown",
   "id": "c27debe9-dc11-4e9e-98f1-57a465945746",
   "metadata": {},
   "source": [
    "## Problem 1 **Solution**"
   ]
  },
  {
   "cell_type": "code",
   "execution_count": null,
   "id": "dbcf4ae0-49b2-4794-948b-8ba1a6ef7751",
   "metadata": {},
   "outputs": [],
   "source": [
    "def lagrange_polynomial(datalist, xvalue):\n",
    "    add=0\n",
    "    for k in datalist:\n",
    "        product=1\n",
    "        for l in datalist:\n",
    "            if l[0] != k[0]:\n",
    "                product = product * ((xvalue-l[0])/(k[0]-l[0]))\n",
    "            else:\n",
    "                product = product * k[1]\n",
    "        add=add + product\n",
    "    return add"
   ]
  },
  {
   "cell_type": "markdown",
   "id": "db582143-5c68-4b0c-9e33-dc0a3daf0abd",
   "metadata": {},
   "source": [
    "## Problem 2 **Solution**"
   ]
  },
  {
   "cell_type": "code",
   "execution_count": null,
   "id": "acf03b9a-1958-4048-be11-57fbdb28de2f",
   "metadata": {},
   "outputs": [],
   "source": [
    "def inv_rotn_encrypt(message, shift):\n",
    "    rotshift=''\n",
    "    numberassign = {'a' : 1, 'b' :2, 'c' : 3, 'd' : 4, 'e' : 5,'f' : 6, 'g' : 7, 'h' : 8, 'i' : 9, 'j' : 10,'k' : 11, 'l' : 12, 'm' : 13, 'n' : 14, 'o' : 15,'p' : 16, 'q' : 17, 'r' : 18, 's' : 19, 't' : 20,'u' : 21, 'v' : 22, 'w' : 23, 'x' : 24, 'y' : 25, 'z' : 26, 'A' : 1, 'B' :2, 'C' : 3, 'D' : 4, 'V' : 5,'F' : 6, 'G' : 7, 'H' : 8, 'I' : 9, 'J' : 10,'K' : 11, 'L' : 12, 'M' : 13, 'N' : 14, 'O' : 15,'P' : 16, 'q' : 17, 'R' : 18, 'S' : 19, 'T' : 20,'U' : 21, 'V' : 22, 'W' : 23, 'X' : 24, 'Y' : 25, 'Z' : 26}\n",
    "    letterassign = {0 : 'z', 1 : 'a', 2 : 'b', 3 : 'c', 4 : 'd', 5 : 'e', 6 : 'f', 7 : 'g', 8 : 'h', 9 : 'i', 10 : 'j',11 : 'k', 12 : 'l', 13 : 'm', 14 : 'n', 15 : 'o',16 : 'p', 17 : 'q', 18 : 'r', 19 : 's', 20 : 't',21 : 'u', 22 : 'v', 23 : 'w', 24 : 'x', 25 : 'y'}\n",
    "    for letter in message:\n",
    "        if letter == 'a' or 'b' or 'c' or 'd' or 'e' or 'f' or 'g' or 'h' or 'i' or 'j' or 'k' or 'l' or 'm' or 'n' or 'o' or 'p' or 'q' or 'r' or 's' or 't' or 'u' or 'v' or 'w' or 'x' or 'y' or 'z' or 'A' or 'B' or 'C' or 'D' or 'E' or 'F' or 'G' or 'H' or 'I' or 'J' or 'K' or 'L' or 'M' or 'N' or 'O' or 'P' or 'Q' or 'R' or 'S' or 'T' or 'U' or 'V' or 'W' or 'X' or 'Y' or 'Z':\n",
    "            rotno=(numberassign[letter]+shift)%26\n",
    "            rotshift=rotshift+letterassign[rotno]\n",
    "    secret=''\n",
    "    for j in rotshift:\n",
    "        secret=j+secret\n",
    "    return secret\n",
    "\n",
    "def inv_rotn_decrypt(secret, shift):\n",
    "    numberassign = {'a' : 1, 'b' :2, 'c' : 3, 'd' : 4, 'e' : 5,'f' : 6, 'g' : 7, 'h' : 8, 'i' : 9, 'j' : 10,'k' : 11, 'l' : 12, 'm' : 13, 'n' : 14, 'o' : 15,'p' : 16, 'q' : 17, 'r' : 18, 's' : 19, 't' : 20,'u' : 21, 'v' : 22, 'w' : 23, 'x' : 24, 'y' : 25, 'z' : 26}\n",
    "    letterassign = {0 : 'z', 1 : 'a', 2 : 'b', 3 : 'c', 4 : 'd', 5 : 'e', 6 : 'f', 7 : 'g', 8 : 'h', 9 : 'i', 10 : 'j',11 : 'k', 12 : 'l', 13 : 'm', 14 : 'n', 15 : 'o',16 : 'p', 17 : 'q', 18 : 'r', 19 : 's', 20 : 't',21 : 'u', 22 : 'v', 23 : 'w', 24 : 'x', 25 : 'y'}\n",
    "    rev=''\n",
    "    for m in secret:\n",
    "        rev=m+rev\n",
    "    decrypt=''\n",
    "    for letter in rev:\n",
    "        if letter == 'a' or 'b' or 'c' or 'd' or 'e' or 'f' or 'g' or 'h' or 'i' or 'j' or 'k' or 'l' or 'm' or 'n' or 'o' or 'p' or 'q' or 'r' or 's' or 't' or 'u' or 'v' or 'w' or 'x' or 'y' or 'z':\n",
    "            letterno=(numberassign[letter]-shift)%26\n",
    "            decrypt=decrypt+letterassign[letterno]\n",
    "    return decrypt\n"
   ]
  }
 ],
 "metadata": {
  "kernelspec": {
   "display_name": "Python 3 (ipykernel)",
   "language": "python",
   "name": "python3"
  },
  "language_info": {
   "codemirror_mode": {
    "name": "ipython",
    "version": 3
   },
   "file_extension": ".py",
   "mimetype": "text/x-python",
   "name": "python",
   "nbconvert_exporter": "python",
   "pygments_lexer": "ipython3",
   "version": "3.9.5"
  }
 },
 "nbformat": 4,
 "nbformat_minor": 5
}
