{
 "cells": [
  {
   "cell_type": "markdown",
   "id": "3d5201ef-78ba-44c2-a485-77059c3c147b",
   "metadata": {},
   "source": [
    "# Module 1.2 - **Python** Part 1 Task"
   ]
  },
  {
   "cell_type": "markdown",
   "id": "c27debe9-dc11-4e9e-98f1-57a465945746",
   "metadata": {},
   "source": [
    "## Problem 1 **Solution**"
   ]
  },
  {
   "cell_type": "code",
   "execution_count": null,
   "id": "dbcf4ae0-49b2-4794-948b-8ba1a6ef7751",
   "metadata": {},
   "outputs": [],
   "source": [
    "def lagrange_polynomial(datalist, xvalue):\n",
    "    x=[]\n",
    "    y=[]\n",
    "    yvalue=0\n",
    "    for i in datalist:\n",
    "        x.append(datalist[i][0])\n",
    "        y.append(datalist[i][1])\n",
    "    l = len(datalist)\n",
    "    for i in range(l):\n",
    "        term = 1\n",
    "        for j in range(l):\n",
    "            if i!=j:\n",
    "                term = term*(xvalue-x[j])/(x[i]-x[j])\n",
    "        yvalue += term*y[i]\n",
    "    return yvalue\n",
    "        "
   ]
  },
  {
   "cell_type": "markdown",
   "id": "db582143-5c68-4b0c-9e33-dc0a3daf0abd",
   "metadata": {},
   "source": [
    "## Problem 2 **Solution**"
   ]
  },
  {
   "cell_type": "code",
   "execution_count": 7,
   "id": "acf03b9a-1958-4048-be11-57fbdb28de2f",
   "metadata": {},
   "outputs": [],
   "source": [
    "dict = {'a' : 1, 'b' : 2, 'c' : 3, 'd' : 4, 'e' : 5,\n",
    "        'f' : 6, 'g' : 7, 'h' : 8, 'i' : 9, 'j' : 10,\n",
    "        'k' : 11, 'l' : 12, 'm' : 13, 'n' : 14, 'o' : 15,\n",
    "        'p' : 16, 'q' : 17, 'r' : 18, 's' : 19, 't' : 20,\n",
    "        'u' : 21, 'v' : 22, 'w' : 23, 'x' : 24, 'y' : 25, 'z' : 26}\n",
    "keylist = list(dict.keys())\n",
    "dict1 = ['a','b','c','d','e','f','g','h','i','j','k','l','m','n','o','p','q','r','s','t','u','v','w','x','y','z']\n",
    "\n",
    "def inv_rotn_encrypt(message, shift):\n",
    "    message=message.lower()\n",
    "    l=len(message)\n",
    "    for i in range(l):\n",
    "        if message[i] in dict1:\n",
    "            num1 = (keylist.index(message[i]))\n",
    "            num2 = (num1+shift)%26 \n",
    "            output = print(keylist[num2], end='')\n",
    "    return output\n",
    "\n",
    "def inv_rotn_decrypt(secret, shift):\n",
    "    output = inv_rot_encrypt(secret,(26-shift))\n",
    "    return output\n",
    "    "
   ]
  }
 ],
 "metadata": {
  "kernelspec": {
   "display_name": "Python 3 (ipykernel)",
   "language": "python",
   "name": "python3"
  },
  "language_info": {
   "codemirror_mode": {
    "name": "ipython",
    "version": 3
   },
   "file_extension": ".py",
   "mimetype": "text/x-python",
   "name": "python",
   "nbconvert_exporter": "python",
   "pygments_lexer": "ipython3",
   "version": "3.8.10"
  }
 },
 "nbformat": 4,
 "nbformat_minor": 5
}
