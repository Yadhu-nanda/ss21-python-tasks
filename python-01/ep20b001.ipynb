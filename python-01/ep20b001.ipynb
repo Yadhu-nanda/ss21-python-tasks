{
 "cells": [
  {
   "cell_type": "markdown",
   "id": "3d5201ef-78ba-44c2-a485-77059c3c147b",
   "metadata": {},
   "source": [
    "# Module 1.2 - **Python** Part 1 Task"
   ]
  },
  {
   "cell_type": "markdown",
   "id": "c27debe9-dc11-4e9e-98f1-57a465945746",
   "metadata": {},
   "source": [
    "## Problem 1 **Solution**"
   ]
  },
  {
   "cell_type": "code",
   "execution_count": 1,
   "id": "dbcf4ae0-49b2-4794-948b-8ba1a6ef7751",
   "metadata": {},
   "outputs": [],
   "source": [
    "def lagrange_polynomial(datalist, xvalue):\n",
    "    s=0\n",
    "    for i in range(len(datalist)):\n",
    "        p=1\n",
    "        for k in range(len(datalist)):\n",
    "            if i!=k:\n",
    "                p = p*(xvalue-datalist[k][0])/(datalist[i][0]-datalist[k][0])\n",
    "        s+=datalist[i][1]*p\n",
    "    return s"
   ]
  },
  {
   "cell_type": "markdown",
   "id": "db582143-5c68-4b0c-9e33-dc0a3daf0abd",
   "metadata": {},
   "source": [
    "## Problem 2 **Solution**"
   ]
  },
  {
   "cell_type": "code",
   "execution_count": 8,
   "id": "acf03b9a-1958-4048-be11-57fbdb28de2f",
   "metadata": {},
   "outputs": [],
   "source": [
    "def inv_rotn_encrypt(message, shift):\n",
    "    enc = ''\n",
    "    if isinstance(shift, int):\n",
    "        for char in message:\n",
    "            if char.isalpha():\n",
    "                if ord(char.upper())+shift>90:\n",
    "                    enc = enc+chr(ord(char)-26+shift).lower()\n",
    "                else:\n",
    "                    enc = enc+chr(ord(char)+shift).lower()\n",
    "    else:\n",
    "        print('Enter integer')\n",
    "    return enc[::-1]\n",
    "def inv_rotn_decrypt(message, shift):\n",
    "    return inv_rotn_encrypt(message, 26-shift)"
   ]
  }
 ],
 "metadata": {
  "kernelspec": {
   "display_name": "Python 3 (ipykernel)",
   "language": "python",
   "name": "python3"
  },
  "language_info": {
   "codemirror_mode": {
    "name": "ipython",
    "version": 3
   },
   "file_extension": ".py",
   "mimetype": "text/x-python",
   "name": "python",
   "nbconvert_exporter": "python",
   "pygments_lexer": "ipython3",
   "version": "3.8.10"
  }
 },
 "nbformat": 4,
 "nbformat_minor": 5
}
