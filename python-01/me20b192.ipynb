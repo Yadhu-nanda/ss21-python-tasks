{
 "cells": [
  {
   "cell_type": "markdown",
   "id": "3d5201ef-78ba-44c2-a485-77059c3c147b",
   "metadata": {},
   "source": [
    "# Module 1.2 - **Python** Part 1 Task"
   ]
  },
  {
   "cell_type": "markdown",
   "id": "c27debe9-dc11-4e9e-98f1-57a465945746",
   "metadata": {},
   "source": [
    "## Problem 1 **Solution**"
   ]
  },
  {
   "cell_type": "code",
   "execution_count": null,
   "id": "dbcf4ae0-49b2-4794-948b-8ba1a6ef7751",
   "metadata": {},
   "outputs": [],
   "source": [
    "def lagrange_polynomial(datalist,xvalue):\n",
    "    num=[0,1,2]\n",
    "    val=0\n",
    "    for i in num:\n",
    "     prod=1 \n",
    "     for j in num:\n",
    "        if(j!=i):\n",
    "            prod*=(xvalue-datalist[j][0])/(datalist[i][0]-datalist[j][0])\n",
    "     val+=prod*datalist[i][1]\n",
    "    print(val)"
   ]
  },
  {
   "cell_type": "markdown",
   "id": "db582143-5c68-4b0c-9e33-dc0a3daf0abd",
   "metadata": {},
   "source": [
    "## Problem 2 **Solution**"
   ]
  },
  {
   "cell_type": "code",
   "execution_count": null,
   "id": "acf03b9a-1958-4048-be11-57fbdb28de2f",
   "metadata": {},
   "outputs": [],
   "source": [
    "def inv_rotn_encrypt(message, shift):\n",
    "    s1=\"\"\n",
    "    for char in message:\n",
    "        if(ord(char)>=65 and ord(char)<=90):\n",
    "            char=chr(ord(char)+32)\n",
    "            s1+= chr((ord(char)+shift-97) % 26 + 97)\n",
    "        elif(ord(char)>=97 and ord(char)<=122):\n",
    "            s1+= chr((ord(char)+shift-97) % 26 + 97)\n",
    "        else:\n",
    "            s1+=char\n",
    "    \n",
    "    return s1[::-1]\n",
    "\n",
    "def inv_rotn_decrypt(secret, shift):\n",
    "    st=secret[::-1]\n",
    "    s2=\"\"\n",
    "    for char in st:\n",
    "        if(ord(char)>=97 and ord(char)<=122):\n",
    "            s2+=chr((ord(char)-shift-97) % 26 + 97)\n",
    "        else:\n",
    "            s2+=char\n",
    "    return s2    "
   ]
  }
 ],
 "metadata": {
  "kernelspec": {
   "display_name": "Python 3 (ipykernel)",
   "language": "python",
   "name": "python3"
  },
  "language_info": {
   "codemirror_mode": {
    "name": "ipython",
    "version": 3
   },
   "file_extension": ".py",
   "mimetype": "text/x-python",
   "name": "python",
   "nbconvert_exporter": "python",
   "pygments_lexer": "ipython3",
   "version": "3.8.10"
  }
 },
 "nbformat": 4,
 "nbformat_minor": 5
}
