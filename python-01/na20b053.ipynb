{
 "cells": [
  {
   "cell_type": "markdown",
   "id": "3d5201ef-78ba-44c2-a485-77059c3c147b",
   "metadata": {},
   "source": [
    "# Module 1.2 - **Python** Part 1 Task"
   ]
  },
  {
   "cell_type": "markdown",
   "id": "c27debe9-dc11-4e9e-98f1-57a465945746",
   "metadata": {},
   "source": [
    "## Problem 1 **Solution**"
   ]
  },
  {
   "cell_type": "code",
   "execution_count": 5,
   "id": "dbcf4ae0-49b2-4794-948b-8ba1a6ef7751",
   "metadata": {},
   "outputs": [],
   "source": [
    "def langragian_polynomial(data, x):\n",
    "    k = len(data);\n",
    "    sum = 0\n",
    "    for i in range(0, k, 1):\n",
    "        mul=1\n",
    "        for j in range(k):\n",
    "            if(j!=i):\n",
    "                mul *= (x - data[j][0]) / (data[i][0] - data[j][0])\n",
    "        mul *= data[i][1]\n",
    "        sum += mul\n",
    "    return sum"
   ]
  },
  {
   "cell_type": "markdown",
   "id": "db582143-5c68-4b0c-9e33-dc0a3daf0abd",
   "metadata": {},
   "source": [
    "## Problem 2 **Solution**"
   ]
  },
  {
   "cell_type": "code",
   "execution_count": 17,
   "id": "58ee9ccc-f0af-4767-807f-51442103b97b",
   "metadata": {},
   "outputs": [],
   "source": [
    "def inv_rotn_encrypt(message, shift):\n",
    "    message = list(message)\n",
    "    output = \"\"\n",
    "    for i,char in enumerate(message):\n",
    "        message[i] = chr(ord(char)+shift)\n",
    "    stri = \"\".join(message)\n",
    "    \n",
    "    for j in stri:\n",
    "        output = j + output\n",
    "    \n",
    "    return output"
   ]
  },
  {
   "cell_type": "code",
   "execution_count": null,
   "id": "ac82ea49-6725-4e09-83a7-ba51be693788",
   "metadata": {},
   "outputs": [],
   "source": [
    "def inv_rotn_decrypt(secret, shift):\n",
    "    stri = \"\"\n",
    "    for i in secret:\n",
    "        stri = i + stri\n",
    "        \n",
    "    stri = list(stri)\n",
    "    for j,char in enumerate(stri):\n",
    "        stri[j] = chr(ord(char)-shift) \n",
    "    \n",
    "    output = \"\".join(stri)\n",
    "    \n",
    "    return output"
   ]
  }
 ],
 "metadata": {
  "kernelspec": {
   "display_name": "Python 3 (ipykernel)",
   "language": "python",
   "name": "python3"
  },
  "language_info": {
   "codemirror_mode": {
    "name": "ipython",
    "version": 3
   },
   "file_extension": ".py",
   "mimetype": "text/x-python",
   "name": "python",
   "nbconvert_exporter": "python",
   "pygments_lexer": "ipython3",
   "version": "3.8.10"
  }
 },
 "nbformat": 4,
 "nbformat_minor": 5
}
