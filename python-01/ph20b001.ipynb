{
 "cells": [
  {
   "cell_type": "markdown",
   "id": "3d5201ef-78ba-44c2-a485-77059c3c147b",
   "metadata": {},
   "source": [
    "# <font color = 'black'>Module 1.2 - **Python** Part 1 Task</font>"
   ]
  },
  {
   "cell_type": "markdown",
   "id": "c27debe9-dc11-4e9e-98f1-57a465945746",
   "metadata": {},
   "source": [
    "## <font color = 'black'>Problem 1 **Solution** </font>"
   ]
  },
  {
   "cell_type": "code",
   "execution_count": 4,
   "id": "dbcf4ae0-49b2-4794-948b-8ba1a6ef7751",
   "metadata": {},
   "outputs": [],
   "source": [
    "def lagrange_polynomial(datapoints,x):\n",
    "    m = len(datapoints)\n",
    "    n=m-1\n",
    "    yval = 0\n",
    "    for i in range(n+1):\n",
    "        xi = datapoints[i][0]\n",
    "        yi = datapoints[i][1]\n",
    "        p = 1\n",
    "        for j in range(n+1):\n",
    "            xj = datapoints[j][0]\n",
    "            yj = datapoints[j][1]\n",
    "            \n",
    "           \n",
    "            if (j!=i):\n",
    "                p*=(x-xj)/(xi-xj)\n",
    "        yval+=yi*p        \n",
    "             \n",
    "    return yval"
   ]
  },
  {
   "cell_type": "markdown",
   "id": "27268b1c",
   "metadata": {},
   "source": [
    "## <font color = 'black'> Test case</font>"
   ]
  },
  {
   "cell_type": "code",
   "execution_count": 5,
   "id": "e1917fc0",
   "metadata": {},
   "outputs": [
    {
     "name": "stdout",
     "output_type": "stream",
     "text": [
      "9.257142857142858\n"
     ]
    }
   ],
   "source": [
    "yval = lagrange_polynomial([[8, 6], [1, 3], [3, 8]], 4)\n",
    "print(yval)"
   ]
  },
  {
   "cell_type": "markdown",
   "id": "db582143-5c68-4b0c-9e33-dc0a3daf0abd",
   "metadata": {},
   "source": [
    "## <font color = 'black'> Problem 2 **Solution** </font>"
   ]
  },
  {
   "cell_type": "code",
   "execution_count": 7,
   "id": "acf03b9a-1958-4048-be11-57fbdb28de2f",
   "metadata": {},
   "outputs": [],
   "source": [
    "A=[\"a\",\"b\",\"c\",\"d\",\"e\",\"f\",\"g\",\"h\",\"i\",\"j\",\"k\",\"l\",\"m\",\"n\",\"o\",\"p\",\"q\",\"r\",\"s\",\"t\",\"u\",\"v\",\"w\",\"x\",\"y\",\"z\"]\n",
    "\n",
    "def inv_rotn_encrypt(message, shift_r):\n",
    "    message=message.lower()\n",
    "    enc_n = []\n",
    "    for i in range(len(message)):\n",
    "        for j in range(26):\n",
    "            if message[i]==A[j]:\n",
    "                enc_n.append(j)\n",
    "    enc_f=[]\n",
    "    while shift_r>26:\n",
    "        shift_r = shift_r-26\n",
    "    for i in range(len(enc_n)):\n",
    "       if((enc_n[i]+shift_r)>26):\n",
    "           enc_f.append(enc_n[i]+shift_r-26)\n",
    "           \n",
    "       else:\n",
    "           enc_f.append(enc_n[i] + shift_r)\n",
    "     \n",
    "    enc_f.reverse()\n",
    "    answer=\"\"\n",
    "    for i in enc_f:\n",
    "        print(A[i], end='')"
   ]
  },
  {
   "cell_type": "code",
   "execution_count": 8,
   "id": "cdcfefcc",
   "metadata": {},
   "outputs": [],
   "source": [
    "def inv_rotn_decrypt(secret, shift_r):\n",
    "    secret.lower()\n",
    "    \n",
    "    \n",
    "    shift_r = -1*shift_r\n",
    "    enc_n = []\n",
    "    for i in range(len(message)):\n",
    "        for j in range(26):\n",
    "            if message[i]==A[j]:\n",
    "                enc_n.append(j)\n",
    "    enc_f=[]\n",
    "    while shift_r>26:\n",
    "        shift_r = shift_r-26\n",
    "    for i in range(len(enc_n)):\n",
    "       if((enc_n[i]+shift_r)>26):\n",
    "           enc_f.append(enc_n[i]+shift_r-26)\n",
    "           \n",
    "       else:\n",
    "           enc_f.append(enc_n[i] + shift_r)\n",
    "          \n",
    "    enc_f.reverse()\n",
    "  \n",
    "    for i in enc_f:\n",
    "        print(A[i], end='')"
   ]
  }
 ],
 "metadata": {
  "kernelspec": {
   "display_name": "Python 3",
   "language": "python",
   "name": "python3"
  },
  "language_info": {
   "codemirror_mode": {
    "name": "ipython",
    "version": 3
   },
   "file_extension": ".py",
   "mimetype": "text/x-python",
   "name": "python",
   "nbconvert_exporter": "python",
   "pygments_lexer": "ipython3",
   "version": "3.8.8"
  }
 },
 "nbformat": 4,
 "nbformat_minor": 5
}
