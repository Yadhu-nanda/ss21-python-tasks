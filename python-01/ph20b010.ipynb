{
 "cells": [
  {
   "cell_type": "markdown",
   "id": "3d5201ef-78ba-44c2-a485-77059c3c147b",
   "metadata": {},
   "source": [
    "# <font color = 'black'>Module 1.2 - **Python** Part 1 Task</font>"
   ]
  },
  {
   "cell_type": "markdown",
   "id": "c27debe9-dc11-4e9e-98f1-57a465945746",
   "metadata": {},
   "source": [
    "## <font color = 'black'>Problem 1 **Solution** </font>"
   ]
  },
  {
   "cell_type": "code",
   "execution_count": 1,
   "id": "dbcf4ae0-49b2-4794-948b-8ba1a6ef7751",
   "metadata": {},
   "outputs": [],
   "source": [
    "import numpy as np\n",
    "def lagrange_polynomial(datalist, xvalue):\n",
    "    n=len(datalist) #number of data point in data list len(datalist)\n",
    "    xlist=datalist[:,0]\n",
    "    ylist=datalist[:,1]\n",
    "    y=0\n",
    "    for i in  range(n):\n",
    "        p=1                       \n",
    "        for j in range(n):\n",
    "            if i !=j:\n",
    "                p = p*(xvalue - xlist[j])/(xlist[i] - xlist[j])\n",
    "                                        \n",
    "        y=y+p*ylist[i]\n",
    "    print(y)"
   ]
  },
  {
   "cell_type": "markdown",
   "id": "db582143-5c68-4b0c-9e33-dc0a3daf0abd",
   "metadata": {},
   "source": [
    "## <font color = 'black'> Problem 2 **Solution** </font>"
   ]
  },
  {
   "cell_type": "code",
   "execution_count": null,
   "id": "6fbf0f5c",
   "metadata": {},
   "outputs": [],
   "source": [
    "def inv_rotn_encrypt(message, shift):\n",
    "    s=list(message.lower())# message should be a string\n",
    "    alphabet=['a','b','c','d','e','f','g','h', 'i','j','k', 'l', 'm', 'n', 'o', 'p', 'q', 'r', 's', 't', 'u', 'v', 'w', 'x','y','z']\n",
    "    \n",
    "    for i in range(len(s)):\n",
    "        for j in range(len(alphabet)):\n",
    "            if alphabet[j]==s[i]:\n",
    "                if j+shift>25:\n",
    "                    s[i]=alphabet[j+shift-26] \n",
    "                else:\n",
    "                    s[i]=alphabet[j+shift]\n",
    "                    break\n",
    "    \n",
    "    new = \"\"\n",
    "    for x in s:\n",
    "        new += x \n",
    "    return new\n",
    "\n",
    "def nv_rotn_decrypt(secret, shift):\n",
    "    s=list(secret)# message should be a string\n",
    "    alphabet=['a','b','c','d','e','f','g','h', 'i','j','k', 'l', 'm', 'n', 'o', 'p', 'q', 'r', 's', 't', 'u', 'v', 'w', 'x','y','z']\n",
    "    for i in range(len(s)):\n",
    "        for j in range(len(alphabet)):\n",
    "            if s[i]==alphabet[j]:\n",
    "                if j-shift>=0:\n",
    "                    s[i]=alphabet[j-shift] \n",
    "                else:\n",
    "                    s[i]=alphabet[j-shift+26]\n",
    "                    break\n",
    "    \n",
    "    new = \"\"\n",
    "    for x in s:\n",
    "        new += x \n",
    "    return new"
   ]
  }
 ],
 "metadata": {
  "kernelspec": {
   "display_name": "Python 3",
   "language": "python",
   "name": "python3"
  },
  "language_info": {
   "codemirror_mode": {
    "name": "ipython",
    "version": 3
   },
   "file_extension": ".py",
   "mimetype": "text/x-python",
   "name": "python",
   "nbconvert_exporter": "python",
   "pygments_lexer": "ipython3",
   "version": "3.8.8"
  }
 },
 "nbformat": 4,
 "nbformat_minor": 5
}
