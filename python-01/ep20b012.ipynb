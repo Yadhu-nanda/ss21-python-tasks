{
 "cells": [
  {
   "cell_type": "markdown",
   "id": "3d5201ef-78ba-44c2-a485-77059c3c147b",
   "metadata": {},
   "source": [
    "# <font color = 'red'>Module 1.2 - **Python** Part 1 Task</font>"
   ]
  },
  {
   "cell_type": "markdown",
   "id": "9b3c77bf",
   "metadata": {},
   "source": [
    "## <font color = 'magenta'> EP20B012 - Chaganti Kamaraja Siddhartha </font>"
   ]
  },
  {
   "cell_type": "markdown",
   "id": "c27debe9-dc11-4e9e-98f1-57a465945746",
   "metadata": {},
   "source": [
    "## <font color = 'red'>Problem 1 **Solution** </font>"
   ]
  },
  {
   "cell_type": "code",
   "execution_count": 1,
   "id": "dbcf4ae0-49b2-4794-948b-8ba1a6ef7751",
   "metadata": {},
   "outputs": [],
   "source": [
    "def lagrange_polynomial(lst,x):\n",
    "    n = len(lst)\n",
    "    L = 0\n",
    "    for j in range(n):\n",
    "        xj = lst[j][0]\n",
    "        yj = lst[j][1]\n",
    "        s = 1\n",
    "        for k in range(n):\n",
    "            xk = lst[k][0]\n",
    "            yk = lst[k][0]\n",
    "            if (j!=k):\n",
    "                s = s*(x-xk)/(xj-xk)\n",
    "        L = L + s*yj\n",
    "    return L"
   ]
  },
  {
   "cell_type": "markdown",
   "id": "27268b1c",
   "metadata": {},
   "source": [
    "## <font color = 'magenta'> Test case</font>"
   ]
  },
  {
   "cell_type": "code",
   "execution_count": 2,
   "id": "e1917fc0",
   "metadata": {},
   "outputs": [
    {
     "name": "stdout",
     "output_type": "stream",
     "text": [
      "9.257142857142858\n"
     ]
    }
   ],
   "source": [
    "yval = lagrange_polynomial([[8, 6], [1, 3], [3, 8]], 4)\n",
    "print(yval)"
   ]
  },
  {
   "cell_type": "markdown",
   "id": "db582143-5c68-4b0c-9e33-dc0a3daf0abd",
   "metadata": {},
   "source": [
    "## <font color = 'red'> Problem 2 **Solution** </font>"
   ]
  },
  {
   "cell_type": "code",
   "execution_count": 12,
   "id": "acf03b9a-1958-4048-be11-57fbdb28de2f",
   "metadata": {},
   "outputs": [],
   "source": [
    "def inv_rotn_encrypt(message, shift):\n",
    "    low_message = message.lower()\n",
    "    lst = [i for i in low_message]\n",
    "    alphabets = \"abcdefghijklmnopqrstuvwxyz\"\n",
    "    alpha = [i for i in alphabets]\n",
    "    shifted = alpha[shift:]+alpha[:shift]\n",
    "    ans = \"\"\n",
    "    for i in lst:\n",
    "        if (i in alpha):\n",
    "            j = alpha.index(i)\n",
    "            ans+=shifted[j]\n",
    "    ans = ans[::-1]\n",
    "    return ans"
   ]
  },
  {
   "cell_type": "code",
   "execution_count": 10,
   "id": "cdcfefcc",
   "metadata": {},
   "outputs": [],
   "source": [
    "def inv_rotn_decrypt(secret, shift):\n",
    "    low_secret = secret.lower()\n",
    "    lst = [i for i in low_secret]\n",
    "    alphabets = \"abcdefghijklmnopqrstuvwxyz\"\n",
    "    alpha = [i for i in alphabets]\n",
    "    shifted = alpha[shift:]+alpha[:shift]\n",
    "    ans = \"\"\n",
    "    for i in lst:\n",
    "        j = shifted.index(i)\n",
    "        ans+=alpha[j]\n",
    "    ans = ans[::-1]\n",
    "    return ans"
   ]
  },
  {
   "cell_type": "markdown",
   "id": "343b3ff9",
   "metadata": {},
   "source": [
    "## <font color = 'magenta'> Test case</font>"
   ]
  },
  {
   "cell_type": "code",
   "execution_count": 15,
   "id": "29d30f74",
   "metadata": {},
   "outputs": [
    {
     "name": "stdout",
     "output_type": "stream",
     "text": [
      "Message:  Hello,World!\n",
      "Encrypted message:  aioltliibe\n",
      "Decrypted message:  helloworld\n"
     ]
    }
   ],
   "source": [
    "message = 'Hello,World!'\n",
    "print(\"Message: \", message)\n",
    "secret = inv_rotn_encrypt(message, 23)\n",
    "print(\"Encrypted message: \", secret)\n",
    "message_again = inv_rotn_decrypt(secret, 23)\n",
    "print(\"Decrypted message: \", message_again)"
   ]
  },
  {
   "cell_type": "code",
   "execution_count": 16,
   "id": "b3ba1644",
   "metadata": {},
   "outputs": [
    {
     "name": "stdout",
     "output_type": "stream",
     "text": [
      "Message:  Bobody\n",
      "Encrypted message:  valyly\n",
      "Decrypted message:  bobody\n"
     ]
    }
   ],
   "source": [
    "message = 'Bobody9'\n",
    "print(\"Message: \", message)\n",
    "secret = inv_rotn_encrypt(message, 23)\n",
    "print(\"Encrypted message: \", secret)\n",
    "message_again = inv_rotn_decrypt(secret, 23)\n",
    "print(\"Decrypted message: \", message_again)"
   ]
  },
  {
   "cell_type": "code",
   "execution_count": null,
   "id": "14be1b6d",
   "metadata": {},
   "outputs": [],
   "source": []
  }
 ],
 "metadata": {
  "kernelspec": {
   "display_name": "Python 3",
   "language": "python",
   "name": "python3"
  },
  "language_info": {
   "codemirror_mode": {
    "name": "ipython",
    "version": 3
   },
   "file_extension": ".py",
   "mimetype": "text/x-python",
   "name": "python",
   "nbconvert_exporter": "python",
   "pygments_lexer": "ipython3",
   "version": "3.9.4"
  }
 },
 "nbformat": 4,
 "nbformat_minor": 5
}
