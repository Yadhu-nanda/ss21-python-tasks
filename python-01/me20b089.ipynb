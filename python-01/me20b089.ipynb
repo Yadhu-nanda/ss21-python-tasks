{
 "cells": [
  {
   "cell_type": "markdown",
   "id": "3d5201ef-78ba-44c2-a485-77059c3c147b",
   "metadata": {},
   "source": [
    "# Module 1.2 - **Python** Part 1 Task"
   ]
  },
  {
   "cell_type": "markdown",
   "id": "c27debe9-dc11-4e9e-98f1-57a465945746",
   "metadata": {},
   "source": [
    "## Problem 1 **Solution**"
   ]
  },
  {
   "cell_type": "code",
   "execution_count": null,
   "id": "dbcf4ae0-49b2-4794-948b-8ba1a6ef7751",
   "metadata": {},
   "outputs": [],
   "source": [
    "def lagrange_polynomial(data,xvalue):\n",
    "        Lag=0\n",
    "        for i in data:\n",
    "            a = 1\n",
    "            for j in data:\n",
    "                if(j != i):\n",
    "                    b = float(xvalue - j[0])\n",
    "                    c = float(i[0] - j [0])\n",
    "                    a = a * b / c\n",
    "            Lag = Lag + (i[1] * (a))\n",
    "        return Lag"
   ]
  },
  {
   "cell_type": "markdown",
   "id": "db582143-5c68-4b0c-9e33-dc0a3daf0abd",
   "metadata": {},
   "source": [
    "## Problem 2 **Solution**"
   ]
  },
  {
   "cell_type": "code",
   "execution_count": null,
   "id": "acf03b9a-1958-4048-be11-57fbdb28de2f",
   "metadata": {},
   "outputs": [],
   "source": [
    "alphabets = \"abcdefghijklmnopqrstuvwxyz\"\n",
    "\n",
    "def inv_rotn_encrypt(message, shift):\n",
    "    messageExp = [i for i in message]\n",
    "    alphabetExp = [i for i in alphabets]\n",
    "    shifted = alphabetExp[shift:] + alphabetExp[:shift]\n",
    "    ans_e = \"\"\n",
    "    for i in messageExp:\n",
    "        j = alphabetExp.index(i)\n",
    "        ans_e += shifted[j]\n",
    "    ans_e = ans_e[::-1]\n",
    "    return ans_e\n",
    "\n",
    "\n",
    "def inv_rotn_decrypt(secret, shift):\n",
    "    messageExp = [i for i in secret]\n",
    "    alphabetExp = [i for i in alphabets]\n",
    "    shifted = alphabetExp[shift:] + alphabetExp[:shift]\n",
    "    ans_d = \"\"\n",
    "    for i in messageExp:\n",
    "        j = shifted.index(i)\n",
    "        ans_d += alphabetExp[j]\n",
    "    ans_d = ans_d[::-1]\n",
    "    return ans_d"
   ]
  }
 ],
 "metadata": {
  "kernelspec": {
   "display_name": "Python 3 (ipykernel)",
   "language": "python",
   "name": "python3"
  },
  "language_info": {
   "codemirror_mode": {
    "name": "ipython",
    "version": 3
   },
   "file_extension": ".py",
   "mimetype": "text/x-python",
   "name": "python",
   "nbconvert_exporter": "python",
   "pygments_lexer": "ipython3",
   "version": "3.8.10"
  }
 },
 "nbformat": 4,
 "nbformat_minor": 5
}
