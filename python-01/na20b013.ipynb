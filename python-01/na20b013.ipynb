{
 "cells": [
  {
   "cell_type": "markdown",
   "id": "3d5201ef-78ba-44c2-a485-77059c3c147b",
   "metadata": {},
   "source": [
    "# Module 1.2 - **Python** Part 1 Task"
   ]
  },
  {
   "cell_type": "markdown",
   "id": "c27debe9-dc11-4e9e-98f1-57a465945746",
   "metadata": {},
   "source": [
    "## Problem 1 **Solution**"
   ]
  },
  {
   "cell_type": "code",
   "execution_count": 1,
   "id": "dbcf4ae0-49b2-4794-948b-8ba1a6ef7751",
   "metadata": {},
   "outputs": [
    {
     "name": "stdout",
     "output_type": "stream",
     "text": [
      "9.257142857142858\n"
     ]
    }
   ],
   "source": [
    "\n",
    "def lagrange_polynomial(datalist,xvalue):\n",
    "    L_x=0\n",
    "    for i in datalist:\n",
    "        l_x=1\n",
    "        for j in datalist:\n",
    "            if(j!=i):\n",
    "                l_x=l_x*float((xvalue-j[0]))/float((i[0]-j[0]))\n",
    "        L_x=L_x+(i[1]*(l_x))\n",
    "    return L_x\n",
    "\n",
    "yval=lagrange_polynomial([[8, 6], [1, 3], [3, 8]], 4)\n",
    "print(yval)"
   ]
  },
  {
   "cell_type": "markdown",
   "id": "db582143-5c68-4b0c-9e33-dc0a3daf0abd",
   "metadata": {},
   "source": [
    "## Problem 2 **Solution**"
   ]
  },
  {
   "cell_type": "code",
   "execution_count": 3,
   "id": "acf03b9a-1958-4048-be11-57fbdb28de2f",
   "metadata": {},
   "outputs": [
    {
     "name": "stdout",
     "output_type": "stream",
     "text": [
      "Message:  Bbobody\n",
      "Encrypted message:  pufsfss\n",
      "Decrypted message:  bbobody\n"
     ]
    }
   ],
   "source": [
    "alphabet='abcdefghijklmnopqrstuvwxyz'\n",
    "caps='ABCDEFGHIJKLMNOPQRSTUVWXYZ'\n",
    "def inv_rotn_encrypt(message,shift):\n",
    "    encrypted=''\n",
    "    index=0\n",
    "    # code to do rot-n\n",
    "    for character in message:\n",
    "        if (character == ' '):\n",
    "            encrypted+=' '\n",
    "        else:\n",
    "            count=0\n",
    "            for letter in alphabet:\n",
    "                if (letter==character):\n",
    "                    index=count\n",
    "                count+=1\n",
    "            count=0\n",
    "            for letter in caps:\n",
    "                if(letter==character):\n",
    "                    index=count\n",
    "                count+=1\n",
    "            shifted_index=index+shift\n",
    "            if (shifted_index>25):\n",
    "                shifted_index=shifted_index-26\n",
    "            encrypted+=alphabet[shifted_index]\n",
    "    # code to invert\n",
    "    inverted_encrypted = encrypted[::-1] #stepping through the string backwards\n",
    "    return inverted_encrypted\n",
    "\n",
    "def inv_rotn_decrypt(encrypted,shift):\n",
    "    # code to de-invert\n",
    "    deinverted_encrypted = encrypted[::-1]\n",
    "    # code to deshift\n",
    "    deinverted_decrypted = ''\n",
    "    for character in deinverted_encrypted:\n",
    "        count=0\n",
    "        if (character == ' '):\n",
    "            deinverted_decrypted+=' '\n",
    "        else:\n",
    "            for letter in alphabet:\n",
    "                if (letter==character):\n",
    "                    index=count\n",
    "                count+=1\n",
    "            deshifted_index=index-shift\n",
    "            if (deshifted_index<-26):\n",
    "                deshifted_index=shifted_index+26\n",
    "            deinverted_decrypted+=alphabet[deshifted_index]\n",
    "    return deinverted_decrypted\n",
    "    \n",
    "message = 'Bbobody'\n",
    "print(\"Message: \", message)\n",
    "secret = inv_rotn_encrypt(message, 17)\n",
    "print(\"Encrypted message: \", secret)\n",
    "message_again = inv_rotn_decrypt(secret, 17)\n",
    "print(\"Decrypted message: \", message_again)\n"
   ]
  }
 ],
 "metadata": {
  "kernelspec": {
   "display_name": "Python 3 (ipykernel)",
   "language": "python",
   "name": "python3"
  },
  "language_info": {
   "codemirror_mode": {
    "name": "ipython",
    "version": 3
   },
   "file_extension": ".py",
   "mimetype": "text/x-python",
   "name": "python",
   "nbconvert_exporter": "python",
   "pygments_lexer": "ipython3",
   "version": "3.9.6"
  }
 },
 "nbformat": 4,
 "nbformat_minor": 5
}
