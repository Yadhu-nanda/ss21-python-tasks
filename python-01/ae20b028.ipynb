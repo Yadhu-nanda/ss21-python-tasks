{
 "cells": [
  {
   "cell_type": "markdown",
   "id": "3d5201ef-78ba-44c2-a485-77059c3c147b",
   "metadata": {},
   "source": [
    "# Module 1.2 - **Python** Part 1 Task"
   ]
  },
  {
   "cell_type": "markdown",
   "id": "c27debe9-dc11-4e9e-98f1-57a465945746",
   "metadata": {},
   "source": [
    "## Problem 1 **Solution**"
   ]
  },
  {
   "cell_type": "code",
   "execution_count": null,
   "id": "dbcf4ae0-49b2-4794-948b-8ba1a6ef7751",
   "metadata": {},
   "outputs": [],
   "source": [
    "def langrange_polynomial(datalist,xvalue) :\n",
    "    result = 0.0\n",
    "    for i in range(len(datalist)) :\n",
    "        p = 1\n",
    "        for j in range(len(datalist)) :\n",
    "            if i != j :\n",
    "                p = p * (xvalue - datalist[j][0])/(datalist[i][0] - datalist[j][0])\n",
    "        result =  result + (p * datalist[i][1])\n",
    "    return result "
   ]
  },
  {
   "cell_type": "markdown",
   "id": "db582143-5c68-4b0c-9e33-dc0a3daf0abd",
   "metadata": {},
   "source": [
    "## Problem 2 **Solution**"
   ]
  },
  {
   "cell_type": "code",
   "execution_count": null,
   "id": "acf03b9a-1958-4048-be11-57fbdb28de2f",
   "metadata": {},
   "outputs": [],
   "source": [
    "def inv_rotn_encrypt(message,shift):\n",
    "    str = \"\"\n",
    "    for i in message : \n",
    "        temp = ord(i)\n",
    "        temp = temp + shift\n",
    "        if temp > 122 :\n",
    "            temp = temp - 26\n",
    "        i = chr(temp)\n",
    "        str = str + i\n",
    "    revstr = \"\"\n",
    "    for j in str :\n",
    "        revstr = j + revstr\n",
    "    return revstr\n",
    "\n",
    "\n",
    "def inv_rotn_decrypt(message,shift) :\n",
    "    dstr = \"\"\n",
    "    for k in message :\n",
    "        dstr = k + dstr\n",
    "    instr = \"\"\n",
    "    for l in dstr : \n",
    "        temp2 = ord(l)\n",
    "        temp2 = temp2 - shift\n",
    "        if temp2 < 97 :\n",
    "            temp2 = temp2 + 26\n",
    "        l = chr(temp2)\n",
    "        instr = instr + l\n",
    "    return instr"
   ]
  }
 ],
 "metadata": {
  "kernelspec": {
   "display_name": "Python 3 (ipykernel)",
   "language": "python",
   "name": "python3"
  },
  "language_info": {
   "codemirror_mode": {
    "name": "ipython",
    "version": 3
   },
   "file_extension": ".py",
   "mimetype": "text/x-python",
   "name": "python",
   "nbconvert_exporter": "python",
   "pygments_lexer": "ipython3",
   "version": "3.8.10"
  }
 },
 "nbformat": 4,
 "nbformat_minor": 5
}
