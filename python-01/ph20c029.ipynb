{
 "cells": [
  {
   "cell_type": "markdown",
   "id": "3d5201ef-78ba-44c2-a485-77059c3c147b",
   "metadata": {},
   "source": [
    "# Module 1.2 - **Python** Part 1 Task"
   ]
  },
  {
   "cell_type": "markdown",
   "id": "c27debe9-dc11-4e9e-98f1-57a465945746",
   "metadata": {},
   "source": [
    "## Problem 1 **Solution**"
   ]
  },
  {
   "cell_type": "code",
   "execution_count": null,
   "id": "dbcf4ae0-49b2-4794-948b-8ba1a6ef7751",
   "metadata": {},
   "outputs": [],
   "source": [
    "def lagrange_polynomial(datalist,xvalue):\n",
    "  lgrg=0\n",
    "        for i in datalist:\n",
    "            a = 1\n",
    "            for j in datalist:\n",
    "                if(j != i):\n",
    "                    b = float(xvalue - j[0])\n",
    "                    c = float(i[0] - j [0])\n",
    "                    a = a * b / c\n",
    "            Lgrg = Lgrg + (i[1] * (a))\n",
    "        return Lgrg"
   ]
  },
  {
   "cell_type": "markdown",
   "id": "db582143-5c68-4b0c-9e33-dc0a3daf0abd",
   "metadata": {},
   "source": [
    "## Problem 2 **Solution**"
   ]
  },
  {
   "cell_type": "code",
   "execution_count": 1,
   "id": "acf03b9a-1958-4048-be11-57fbdb28de2f",
   "metadata": {},
   "outputs": [],
   "source": [
    "alp_index = {'a' : 1, 'b' : 2, 'c' : 3, 'd' : 4, 'e' : 5,\n",
    "             'f' : 6, 'g' : 7, 'h' : 8, 'i' : 9, 'j' : 10,\n",
    "             'k' : 11, 'l' : 12, 'm' : 13, 'n' : 14, 'o' : 15,\n",
    "             'p' : 16, 'q' : 17, 'r' : 18, 's' : 19, 't' : 20,\n",
    "             'u' : 21, 'v' : 22, 'w' : 23, 'x' : 24, 'y' : 25, 'z' : 26}\n",
    "index_alp = {0 : 'z', 1 : 'a', 2 : 'b', 3 : 'c', 4 : 'd', 5 : 'e',\n",
    "             6 : 'f', 7 : 'g', 8 : 'h', 9 : 'i', 10 : 'j',\n",
    "            11 : 'k', 12 : 'l', 13 : 'm', 14 : 'n', 15 : 'o',\n",
    "            16 : 'p', 17 : 'q', 18 : 'r', 19 : 's', 20 : 't',\n",
    "            21 : 'u', 22 : 'v', 23 : 'w', 24 : 'x', 25 : 'y'}\n",
    "\n",
    "\n",
    "def inv_rotn_encrypt(message, shift):\n",
    "  secret=''\n",
    "  for letter in message:\n",
    "      num = ( alp_index[letter] + shift ) % 26\n",
    "      secret += index_alp[num]\n",
    "  secret=secret [::-1]\n",
    "  return secret\n",
    "\n",
    "def inv_rotn_decrypt(secret, shift):\n",
    "  message=''\n",
    "  secret=secret [::-1]\n",
    "  for letter in secret:\n",
    "      num = ( alp_index[letter] - shift ) % 26\n",
    "      message += index_alp[num]\n",
    "  return message"
   ]
  }
 ],
 "metadata": {
  "kernelspec": {
   "display_name": "Python 3 (ipykernel)",
   "language": "python",
   "name": "python3"
  },
  "language_info": {
   "codemirror_mode": {
    "name": "ipython",
    "version": 3
   },
   "file_extension": ".py",
   "mimetype": "text/x-python",
   "name": "python",
   "nbconvert_exporter": "python",
   "pygments_lexer": "ipython3",
   "version": "3.8.10"
  }
 },
 "nbformat": 4,
 "nbformat_minor": 5
}
